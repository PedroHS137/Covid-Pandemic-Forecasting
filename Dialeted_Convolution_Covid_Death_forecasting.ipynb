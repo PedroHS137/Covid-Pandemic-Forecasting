{
  "nbformat": 4,
  "nbformat_minor": 0,
  "metadata": {
    "colab": {
      "name": "Dialeted Convolution Covid_Death_forecasting.ipynb",
      "provenance": [],
      "collapsed_sections": []
    },
    "kernelspec": {
      "display_name": "Python 3",
      "name": "python3"
    },
    "accelerator": "GPU"
  },
  "cells": [
    {
      "cell_type": "markdown",
      "metadata": {
        "id": "_3bi1D2IiCyW"
      },
      "source": [
        "# Covid Death forecasting"
      ]
    },
    {
      "cell_type": "markdown",
      "metadata": {
        "id": "vidayERjaO5q"
      },
      "source": [
        "## Setup\n",
        "Inport necesary libraries"
      ]
    },
    {
      "cell_type": "code",
      "metadata": {
        "id": "gqWabzlJ63nL"
      },
      "source": [
        "import numpy as np\n",
        "import matplotlib.pyplot as plt\n",
        "import pandas as pd\n",
        "import tensorflow as tf\n",
        "from sklearn import preprocessing\n",
        "from sklearn.preprocessing import MinMaxScaler\n",
        "from keras.preprocessing.sequence import TimeseriesGenerator\n",
        "from keras.models import Sequential\n",
        "from keras.layers import Dense, LSTM, Dropout, Activation\n",
        "import datetime\n",
        "\n",
        "keras = tf.keras"
      ],
      "execution_count": null,
      "outputs": []
    },
    {
      "cell_type": "code",
      "metadata": {
        "id": "sJwA96JU00pW"
      },
      "source": [
        "def plot_series(time, series, format=\"-\", start=0, end=None, label=None):\n",
        "    plt.plot(time[start:end], series[start:end], format, label=label)\n",
        "    plt.xlabel(\"Time\")\n",
        "    plt.ylabel(\"Value\")\n",
        "    if label:\n",
        "        plt.legend(fontsize=14)\n",
        "    plt.grid(True)\n",
        "    \n",
        "def trend(time, slope=0):\n",
        "    return slope * time\n",
        "\n",
        "def seasonal_pattern(season_time):\n",
        "    return np.where(season_time < 0.4,\n",
        "                    np.cos(season_time * 2 * np.pi),\n",
        "                    1 / np.exp(3 * season_time))\n",
        "  \n",
        "def seasonality(time, period, amplitude=1, phase=0):\n",
        "    season_time = ((time + phase) % period) / period\n",
        "    return amplitude * seasonal_pattern(season_time)\n",
        "    \n",
        "def white_noise(time, noise_level=1, seed=None):\n",
        "    rnd = np.random.RandomState(seed)\n",
        "    return rnd.randn(len(time)) * noise_level"
      ],
      "execution_count": null,
      "outputs": []
    },
    {
      "cell_type": "markdown",
      "metadata": {
        "id": "0HCMZjvxDqpj"
      },
      "source": [
        "# Data Loading\n",
        "In order to build our model, we can begin by importing the dataset. We first need to upload the latest version of the dataset."
      ]
    },
    {
      "cell_type": "code",
      "metadata": {
        "id": "8VKJI0o7YJTK"
      },
      "source": [
        "df = pd.read_csv('/content/MuertesUpT2020_2021Nov.csv')"
      ],
      "execution_count": null,
      "outputs": []
    },
    {
      "cell_type": "markdown",
      "metadata": {
        "id": "ALHspE4tEIwb"
      },
      "source": [
        "After downloading the dataset, we need to format the data."
      ]
    },
    {
      "cell_type": "code",
      "metadata": {
        "colab": {
          "base_uri": "https://localhost:8080/"
        },
        "id": "WD9YKhcFZO3f",
        "outputId": "a77df66e-1599-470c-dc28-9a03905a5ebf"
      },
      "source": [
        "df = df.dropna()\n",
        "df.head"
      ],
      "execution_count": null,
      "outputs": [
        {
          "output_type": "execute_result",
          "data": {
            "text/plain": [
              "<bound method NDFrame.head of      CountDEF   FECHA_DEF\n",
              "0           1  24/01/2020\n",
              "1           4  07/02/2020\n",
              "2           3  24/02/2020\n",
              "3           7  03/03/2020\n",
              "4           7  13/03/2020\n",
              "..        ...         ...\n",
              "562       546  27/09/2021\n",
              "563       532  28/09/2021\n",
              "564       404  29/09/2021\n",
              "565       148  30/09/2021\n",
              "566         2  01/10/2021\n",
              "\n",
              "[567 rows x 2 columns]>"
            ]
          },
          "metadata": {},
          "execution_count": 4
        }
      ]
    },
    {
      "cell_type": "code",
      "metadata": {
        "id": "0f0ayTumc5Cn"
      },
      "source": [
        "#df['FECHA_DEF'] = pd.to_datetime(df['FECHA_DEF'], format='%Y/%m/%d')\n",
        "df['FECHA_DEF'] = pd.to_datetime(df['FECHA_DEF'], format='%d/%m/%Y')"
      ],
      "execution_count": null,
      "outputs": []
    },
    {
      "cell_type": "code",
      "metadata": {
        "colab": {
          "base_uri": "https://localhost:8080/"
        },
        "id": "RJu0VfTncaOT",
        "outputId": "39e7b223-d305-495d-b1d4-0338f1c94589"
      },
      "source": [
        "df.dtypes"
      ],
      "execution_count": null,
      "outputs": [
        {
          "output_type": "execute_result",
          "data": {
            "text/plain": [
              "CountDEF              int64\n",
              "FECHA_DEF    datetime64[ns]\n",
              "dtype: object"
            ]
          },
          "metadata": {},
          "execution_count": 6
        }
      ]
    },
    {
      "cell_type": "code",
      "metadata": {
        "id": "6YMPsjY_VzyF"
      },
      "source": [
        "df = df.set_index('FECHA_DEF')"
      ],
      "execution_count": null,
      "outputs": []
    },
    {
      "cell_type": "code",
      "metadata": {
        "id": "YgENFvkJcBCp"
      },
      "source": [
        "#time = df[\"FECHA_DEF\"].to_numpy()\n",
        "time = df.index.values"
      ],
      "execution_count": null,
      "outputs": []
    },
    {
      "cell_type": "code",
      "metadata": {
        "colab": {
          "base_uri": "https://localhost:8080/"
        },
        "id": "le_5f7rOcOuV",
        "outputId": "4cf3a8d1-b2f6-430d-803f-427dab77fec2"
      },
      "source": [
        "time.dtype"
      ],
      "execution_count": null,
      "outputs": [
        {
          "output_type": "execute_result",
          "data": {
            "text/plain": [
              "dtype('<M8[ns]')"
            ]
          },
          "metadata": {},
          "execution_count": 9
        }
      ]
    },
    {
      "cell_type": "code",
      "metadata": {
        "id": "iAFSf-etdt7j"
      },
      "source": [
        "#print(time)"
      ],
      "execution_count": null,
      "outputs": []
    },
    {
      "cell_type": "code",
      "metadata": {
        "colab": {
          "base_uri": "https://localhost:8080/"
        },
        "id": "NbNsBLbPeBX9",
        "outputId": "c1192d68-c7b7-4e61-a17e-ae36324bfe9f"
      },
      "source": [
        "print(time[535])"
      ],
      "execution_count": null,
      "outputs": [
        {
          "output_type": "stream",
          "name": "stdout",
          "text": [
            "2021-08-31T00:00:00.000000000\n"
          ]
        }
      ]
    },
    {
      "cell_type": "markdown",
      "metadata": {
        "id": "yVo6CcpRaW7u"
      },
      "source": [
        "## Plot graph"
      ]
    },
    {
      "cell_type": "code",
      "metadata": {
        "id": "BLt-pLiZ0nfB",
        "colab": {
          "base_uri": "https://localhost:8080/",
          "height": 388
        },
        "outputId": "168efe70-1c29-466b-f23e-e058f3c6c67b"
      },
      "source": [
        "series = df.to_numpy()\n",
        "#series = df[\"CountDEF\"].to_numpy()\n",
        "\n",
        "plt.figure(figsize=(10, 6))\n",
        "plot_series(time, series)\n",
        "plt.show()"
      ],
      "execution_count": null,
      "outputs": [
        {
          "output_type": "display_data",
          "data": {
            "image/png": "[encoded data removed]",
            "text/plain": [
              "<Figure size 720x432 with 1 Axes>"
            ]
          },
          "metadata": {
            "needs_background": "light"
          }
        }
      ]
    },
    {
      "cell_type": "code",
      "metadata": {
        "id": "ySD05lzcWEKL"
      },
      "source": [
        ""
      ],
      "execution_count": null,
      "outputs": []
    },
    {
      "cell_type": "code",
      "metadata": {
        "id": "_w0eKap5uFNP"
      },
      "source": [
        "split_time = 470\n",
        "split_time_pred = 535\n",
        "time_train = time[:split_time]\n",
        "x_train = series[:split_time]\n",
        "time_valid = time[split_time:]\n",
        "x_valid = series[split_time:]"
      ],
      "execution_count": null,
      "outputs": []
    },
    {
      "cell_type": "code",
      "metadata": {
        "id": "1v31aFQJbh7H"
      },
      "source": [
        "#print(x_train)"
      ],
      "execution_count": null,
      "outputs": []
    },
    {
      "cell_type": "markdown",
      "metadata": {
        "id": "bjD8ncEZbjEW"
      },
      "source": [
        "## Naive Forecast (testing if the code works, dummy code)"
      ]
    },
    {
      "cell_type": "code",
      "metadata": {
        "id": "Pj_-uCeYxcAb"
      },
      "source": [
        "naive_forecast = series[split_time - 1:-1]"
      ],
      "execution_count": null,
      "outputs": []
    },
    {
      "cell_type": "code",
      "metadata": {
        "id": "JtxwHj9Ig0jT",
        "colab": {
          "base_uri": "https://localhost:8080/",
          "height": 388
        },
        "outputId": "bc23a860-9683-4602-e1d6-170e69bf9fca"
      },
      "source": [
        "plt.figure(figsize=(10, 6))\n",
        "plot_series(time_valid, x_valid, label=\"Series\")\n",
        "plot_series(time_valid, naive_forecast, label=\"Forecast\")"
      ],
      "execution_count": null,
      "outputs": [
        {
          "output_type": "display_data",
          "data": {
            "image/png": "[encoded data removed]",
            "text/plain": [
              "<Figure size 720x432 with 1 Axes>"
            ]
          },
          "metadata": {
            "needs_background": "light"
          }
        }
      ]
    },
    {
      "cell_type": "markdown",
      "metadata": {
        "id": "2np8UT1DT-WX"
      },
      "source": [
        "## Scale data"
      ]
    },
    {
      "cell_type": "code",
      "metadata": {
        "id": "ACmWRQ7AcCi4"
      },
      "source": [
        "scaler = MinMaxScaler()\n",
        "\n",
        "#.reshape(-1,1)\n",
        "x_train = scaler.fit_transform(x_train.reshape(-1,1))\n",
        "x_valid = scaler.fit_transform(x_valid.reshape(-1,1))"
      ],
      "execution_count": null,
      "outputs": []
    },
    {
      "cell_type": "code",
      "metadata": {
        "id": "YuMRp9dagHdB"
      },
      "source": [
        "def window_dataset(series, window_size, batch_size=32,\n",
        "                   shuffle_buffer=1000):\n",
        "    dataset = tf.data.Dataset.from_tensor_slices(series)\n",
        "    dataset = dataset.window(window_size + 1, shift=1, drop_remainder=True)\n",
        "    dataset = dataset.flat_map(lambda window: window.batch(window_size + 1))\n",
        "    dataset = dataset.shuffle(shuffle_buffer)\n",
        "    dataset = dataset.map(lambda window: (window[:-1], window[-1]))\n",
        "    dataset = dataset.batch(batch_size).prefetch(1)\n",
        "    return dataset"
      ],
      "execution_count": null,
      "outputs": []
    },
    {
      "cell_type": "code",
      "metadata": {
        "id": "hl7ObReOTAat"
      },
      "source": [
        "def sequential_window_dataset(series, window_size):\n",
        "    series = tf.expand_dims(series, axis=-1)\n",
        "    ds = tf.data.Dataset.from_tensor_slices(series)\n",
        "    ds = ds.window(window_size + 1, shift=window_size, drop_remainder=True)\n",
        "    ds = ds.flat_map(lambda window: window.batch(window_size + 1))\n",
        "    ds = ds.map(lambda window: (window[:-1], window[1:]))\n",
        "    return ds.batch(1).prefetch(1)"
      ],
      "execution_count": null,
      "outputs": []
    },
    {
      "cell_type": "code",
      "metadata": {
        "id": "zrJigLbbc2z2"
      },
      "source": [
        "def seq2seq_window_dataset(series, window_size, batch_size=32,\n",
        "                           shuffle_buffer=1000):\n",
        "    series = tf.expand_dims(series, axis=-1)\n",
        "    ds = tf.data.Dataset.from_tensor_slices(series)\n",
        "    ds = ds.window(window_size + 1, shift=1, drop_remainder=True)\n",
        "    ds = ds.flat_map(lambda w: w.batch(window_size + 1))\n",
        "    ds = ds.shuffle(shuffle_buffer)\n",
        "    ds = ds.map(lambda w: (w[:-1], w[1:]))\n",
        "    return ds.batch(batch_size).prefetch(1)"
      ],
      "execution_count": null,
      "outputs": []
    },
    {
      "cell_type": "code",
      "metadata": {
        "id": "2esmvJLOgNxT"
      },
      "source": [
        "#window_size = 10\n",
        "#train_set = window_dataset(x_train, window_size)\n",
        "#valid_set = window_dataset(x_valid, window_size)"
      ],
      "execution_count": null,
      "outputs": []
    },
    {
      "cell_type": "code",
      "metadata": {
        "colab": {
          "base_uri": "https://localhost:8080/"
        },
        "id": "vLqxKkyYbEFa",
        "outputId": "5235e248-3385-486d-d162-a8c3d1605d89"
      },
      "source": [
        "#print(window_dataset(x_train, window_size))"
      ],
      "execution_count": null,
      "outputs": [
        {
          "output_type": "stream",
          "name": "stdout",
          "text": [
            "<PrefetchDataset shapes: ((None, None, 1), (None, 1)), types: (tf.int64, tf.int64)>\n"
          ]
        }
      ]
    },
    {
      "cell_type": "code",
      "metadata": {
        "id": "52qCB7QGRTyk"
      },
      "source": [
        ""
      ],
      "execution_count": null,
      "outputs": []
    },
    {
      "cell_type": "code",
      "metadata": {
        "id": "faMiaM-BVATd"
      },
      "source": [
        "class ResetStatesCallback(keras.callbacks.Callback):\n",
        "    def on_epoch_begin(self, epoch, logs):\n",
        "        self.model.reset_states()"
      ],
      "execution_count": null,
      "outputs": []
    },
    {
      "cell_type": "markdown",
      "metadata": {
        "id": "JmiCQ68TUigy"
      },
      "source": [
        "Compute the best learning rate"
      ]
    },
    {
      "cell_type": "code",
      "metadata": {
        "colab": {
          "base_uri": "https://localhost:8080/"
        },
        "id": "e4vYNz7SUEBh",
        "outputId": "0ae8d7c8-34e7-43d9-d615-097bcdaa1428"
      },
      "source": [
        "keras.backend.clear_session()\n",
        "tf.random.set_seed(42)\n",
        "np.random.seed(42)\n",
        "\n",
        "window_size = 4\n",
        "#train_set = seq2seq_window_dataset(x_train, window_size, batch_size=8)\n",
        "train_set = TimeseriesGenerator(x_train, x_train, length = window_size, batch_size=1)\n",
        "\n",
        "model = keras.models.Sequential()\n",
        "model.add(keras.layers.InputLayer(input_shape=[None, 1]))\n",
        "for dilation_rate in (1, 2, 4, 8, 16, 32):\n",
        "    model.add(\n",
        "      keras.layers.Conv1D(filters=32,\n",
        "                          kernel_size=2,\n",
        "                          strides=1,\n",
        "                          dilation_rate=dilation_rate,\n",
        "                          padding=\"causal\",\n",
        "                          activation=\"relu\")\n",
        "    )\n",
        "model.add(keras.layers.Conv1D(filters=1, kernel_size=1))\n",
        "lr_schedule = keras.callbacks.LearningRateScheduler(\n",
        "    lambda epoch: 1e-4 * 10**(epoch / 30))\n",
        "optimizer = keras.optimizers.Adam(lr=1e-4)\n",
        "model.compile(loss=keras.losses.Huber(),\n",
        "              optimizer=optimizer,\n",
        "              metrics=[\"mae\"])\n",
        "history = model.fit(train_set, epochs=100, callbacks=[lr_schedule])"
      ],
      "execution_count": null,
      "outputs": [
        {
          "output_type": "stream",
          "name": "stderr",
          "text": [
            "/usr/local/lib/python3.7/dist-packages/keras/optimizer_v2/adam.py:105: UserWarning: The `lr` argument is deprecated, use `learning_rate` instead.\n",
            "  super(Adam, self).__init__(name, **kwargs)\n"
          ]
        },
        {
          "output_type": "stream",
          "name": "stdout",
          "text": [
            "Epoch 1/100\n",
            "466/466 [==============================] - 33s 8ms/step - loss: 0.0335 - mae: 0.1946 - lr: 1.0000e-04\n",
            "Epoch 2/100\n",
            "466/466 [==============================] - 4s 8ms/step - loss: 0.0046 - mae: 0.0728 - lr: 1.0798e-04\n",
            "Epoch 3/100\n",
            "466/466 [==============================] - 4s 8ms/step - loss: 0.0011 - mae: 0.0323 - lr: 1.1659e-04\n",
            "Epoch 4/100\n",
            "466/466 [==============================] - 4s 8ms/step - loss: 0.0010 - mae: 0.0305 - lr: 1.2589e-04\n",
            "Epoch 5/100\n",
            "466/466 [==============================] - 4s 8ms/step - loss: 0.0010 - mae: 0.0302 - lr: 1.3594e-04\n",
            "Epoch 6/100\n",
            "466/466 [==============================] - 4s 8ms/step - loss: 9.8006e-04 - mae: 0.0297 - lr: 1.4678e-04\n",
            "Epoch 7/100\n",
            "466/466 [==============================] - 4s 9ms/step - loss: 0.0010 - mae: 0.0309 - lr: 1.5849e-04\n",
            "Epoch 8/100\n",
            "466/466 [==============================] - 4s 8ms/step - loss: 0.0010 - mae: 0.0309 - lr: 1.7113e-04\n",
            "Epoch 9/100\n",
            "466/466 [==============================] - 4s 8ms/step - loss: 0.0010 - mae: 0.0307 - lr: 1.8478e-04\n",
            "Epoch 10/100\n",
            "466/466 [==============================] - 4s 8ms/step - loss: 9.7198e-04 - mae: 0.0293 - lr: 1.9953e-04\n",
            "Epoch 11/100\n",
            "466/466 [==============================] - 4s 9ms/step - loss: 0.0011 - mae: 0.0317 - lr: 2.1544e-04\n",
            "Epoch 12/100\n",
            "466/466 [==============================] - 4s 8ms/step - loss: 0.0010 - mae: 0.0317 - lr: 2.3263e-04\n",
            "Epoch 13/100\n",
            "466/466 [==============================] - 4s 8ms/step - loss: 0.0011 - mae: 0.0317 - lr: 2.5119e-04\n",
            "Epoch 14/100\n",
            "466/466 [==============================] - 4s 8ms/step - loss: 0.0011 - mae: 0.0315 - lr: 2.7123e-04\n",
            "Epoch 15/100\n",
            "466/466 [==============================] - 4s 8ms/step - loss: 0.0011 - mae: 0.0322 - lr: 2.9286e-04\n",
            "Epoch 16/100\n",
            "466/466 [==============================] - 4s 8ms/step - loss: 0.0010 - mae: 0.0313 - lr: 3.1623e-04\n",
            "Epoch 17/100\n",
            "466/466 [==============================] - 4s 9ms/step - loss: 0.0011 - mae: 0.0329 - lr: 3.4145e-04\n",
            "Epoch 18/100\n",
            "466/466 [==============================] - 4s 8ms/step - loss: 0.0011 - mae: 0.0324 - lr: 3.6869e-04\n",
            "Epoch 19/100\n",
            "466/466 [==============================] - 4s 8ms/step - loss: 0.0011 - mae: 0.0330 - lr: 3.9811e-04\n",
            "Epoch 20/100\n",
            "466/466 [==============================] - 4s 9ms/step - loss: 0.0012 - mae: 0.0334 - lr: 4.2987e-04\n",
            "Epoch 21/100\n",
            "466/466 [==============================] - 4s 8ms/step - loss: 0.0012 - mae: 0.0345 - lr: 4.6416e-04\n",
            "Epoch 22/100\n",
            "466/466 [==============================] - 4s 9ms/step - loss: 0.0012 - mae: 0.0344 - lr: 5.0119e-04\n",
            "Epoch 23/100\n",
            "466/466 [==============================] - 4s 8ms/step - loss: 0.0012 - mae: 0.0335 - lr: 5.4117e-04\n",
            "Epoch 24/100\n",
            "466/466 [==============================] - 4s 9ms/step - loss: 0.0012 - mae: 0.0347 - lr: 5.8434e-04\n",
            "Epoch 25/100\n",
            "466/466 [==============================] - 4s 9ms/step - loss: 0.0012 - mae: 0.0351 - lr: 6.3096e-04\n",
            "Epoch 26/100\n",
            "466/466 [==============================] - 4s 8ms/step - loss: 0.0013 - mae: 0.0347 - lr: 6.8129e-04\n",
            "Epoch 27/100\n",
            "466/466 [==============================] - 4s 9ms/step - loss: 0.0014 - mae: 0.0379 - lr: 7.3564e-04\n",
            "Epoch 28/100\n",
            "466/466 [==============================] - 4s 9ms/step - loss: 0.0015 - mae: 0.0388 - lr: 7.9433e-04\n",
            "Epoch 29/100\n",
            "466/466 [==============================] - 4s 8ms/step - loss: 0.0012 - mae: 0.0356 - lr: 8.5770e-04\n",
            "Epoch 30/100\n",
            "466/466 [==============================] - 4s 8ms/step - loss: 0.0017 - mae: 0.0407 - lr: 9.2612e-04\n",
            "Epoch 31/100\n",
            "466/466 [==============================] - 4s 9ms/step - loss: 0.0014 - mae: 0.0371 - lr: 0.0010\n",
            "Epoch 32/100\n",
            "466/466 [==============================] - 4s 9ms/step - loss: 0.0014 - mae: 0.0379 - lr: 0.0011\n",
            "Epoch 33/100\n",
            "466/466 [==============================] - 4s 9ms/step - loss: 0.0013 - mae: 0.0361 - lr: 0.0012\n",
            "Epoch 34/100\n",
            "466/466 [==============================] - 4s 9ms/step - loss: 0.0013 - mae: 0.0377 - lr: 0.0013\n",
            "Epoch 35/100\n",
            "466/466 [==============================] - 4s 9ms/step - loss: 0.0015 - mae: 0.0375 - lr: 0.0014\n",
            "Epoch 36/100\n",
            "466/466 [==============================] - 4s 8ms/step - loss: 0.0017 - mae: 0.0412 - lr: 0.0015\n",
            "Epoch 37/100\n",
            "466/466 [==============================] - 4s 8ms/step - loss: 0.0016 - mae: 0.0409 - lr: 0.0016\n",
            "Epoch 38/100\n",
            "466/466 [==============================] - 4s 8ms/step - loss: 0.0018 - mae: 0.0432 - lr: 0.0017\n",
            "Epoch 39/100\n",
            "466/466 [==============================] - 4s 9ms/step - loss: 0.0013 - mae: 0.0366 - lr: 0.0018\n",
            "Epoch 40/100\n",
            "466/466 [==============================] - 4s 9ms/step - loss: 0.0017 - mae: 0.0413 - lr: 0.0020\n",
            "Epoch 41/100\n",
            "466/466 [==============================] - 4s 8ms/step - loss: 0.0019 - mae: 0.0435 - lr: 0.0022\n",
            "Epoch 42/100\n",
            "466/466 [==============================] - 4s 9ms/step - loss: 0.0022 - mae: 0.0467 - lr: 0.0023\n",
            "Epoch 43/100\n",
            "466/466 [==============================] - 4s 9ms/step - loss: 0.0017 - mae: 0.0429 - lr: 0.0025\n",
            "Epoch 44/100\n",
            "466/466 [==============================] - 4s 8ms/step - loss: 0.0018 - mae: 0.0447 - lr: 0.0027\n",
            "Epoch 45/100\n",
            "466/466 [==============================] - 4s 8ms/step - loss: 0.0019 - mae: 0.0453 - lr: 0.0029\n",
            "Epoch 46/100\n",
            "466/466 [==============================] - 4s 8ms/step - loss: 0.0021 - mae: 0.0472 - lr: 0.0032\n",
            "Epoch 47/100\n",
            "466/466 [==============================] - 4s 8ms/step - loss: 0.0021 - mae: 0.0479 - lr: 0.0034\n",
            "Epoch 48/100\n",
            "466/466 [==============================] - 4s 9ms/step - loss: 0.0027 - mae: 0.0536 - lr: 0.0037\n",
            "Epoch 49/100\n",
            "466/466 [==============================] - 4s 9ms/step - loss: 0.0020 - mae: 0.0468 - lr: 0.0040\n",
            "Epoch 50/100\n",
            "466/466 [==============================] - 4s 9ms/step - loss: 0.0023 - mae: 0.0491 - lr: 0.0043\n",
            "Epoch 51/100\n",
            "466/466 [==============================] - 4s 8ms/step - loss: 0.0018 - mae: 0.0437 - lr: 0.0046\n",
            "Epoch 52/100\n",
            "466/466 [==============================] - 4s 9ms/step - loss: 0.0018 - mae: 0.0423 - lr: 0.0050\n",
            "Epoch 53/100\n",
            "466/466 [==============================] - 4s 9ms/step - loss: 0.0019 - mae: 0.0455 - lr: 0.0054\n",
            "Epoch 54/100\n",
            "466/466 [==============================] - 4s 9ms/step - loss: 0.0019 - mae: 0.0452 - lr: 0.0058\n",
            "Epoch 55/100\n",
            "466/466 [==============================] - 4s 9ms/step - loss: 0.0032 - mae: 0.0572 - lr: 0.0063\n",
            "Epoch 56/100\n",
            "466/466 [==============================] - 4s 8ms/step - loss: 0.0025 - mae: 0.0523 - lr: 0.0068\n",
            "Epoch 57/100\n",
            "466/466 [==============================] - 4s 8ms/step - loss: 0.0026 - mae: 0.0533 - lr: 0.0074\n",
            "Epoch 58/100\n",
            "466/466 [==============================] - 4s 8ms/step - loss: 0.0021 - mae: 0.0469 - lr: 0.0079\n",
            "Epoch 59/100\n",
            "466/466 [==============================] - 4s 9ms/step - loss: 0.0031 - mae: 0.0555 - lr: 0.0086\n",
            "Epoch 60/100\n",
            "466/466 [==============================] - 4s 8ms/step - loss: 0.0023 - mae: 0.0455 - lr: 0.0093\n",
            "Epoch 61/100\n",
            "466/466 [==============================] - 4s 8ms/step - loss: 0.0021 - mae: 0.0476 - lr: 0.0100\n",
            "Epoch 62/100\n",
            "466/466 [==============================] - 4s 8ms/step - loss: 0.0022 - mae: 0.0479 - lr: 0.0108\n",
            "Epoch 63/100\n",
            "466/466 [==============================] - 4s 9ms/step - loss: 0.0029 - mae: 0.0557 - lr: 0.0117\n",
            "Epoch 64/100\n",
            "466/466 [==============================] - 4s 9ms/step - loss: 0.0024 - mae: 0.0522 - lr: 0.0126\n",
            "Epoch 65/100\n",
            "466/466 [==============================] - 4s 9ms/step - loss: 0.0044 - mae: 0.0708 - lr: 0.0136\n",
            "Epoch 66/100\n",
            "466/466 [==============================] - 4s 8ms/step - loss: 0.0035 - mae: 0.0630 - lr: 0.0147\n",
            "Epoch 67/100\n",
            "466/466 [==============================] - 4s 8ms/step - loss: 0.0035 - mae: 0.0636 - lr: 0.0158\n",
            "Epoch 68/100\n",
            "466/466 [==============================] - 4s 8ms/step - loss: 0.0038 - mae: 0.0642 - lr: 0.0171\n",
            "Epoch 69/100\n",
            "466/466 [==============================] - 4s 9ms/step - loss: 0.0043 - mae: 0.0689 - lr: 0.0185\n",
            "Epoch 70/100\n",
            "466/466 [==============================] - 4s 8ms/step - loss: 0.0035 - mae: 0.0626 - lr: 0.0200\n",
            "Epoch 71/100\n",
            "466/466 [==============================] - 4s 9ms/step - loss: 0.0039 - mae: 0.0678 - lr: 0.0215\n",
            "Epoch 72/100\n",
            "466/466 [==============================] - 4s 9ms/step - loss: 0.0278 - mae: 0.1745 - lr: 0.0233\n",
            "Epoch 73/100\n",
            "466/466 [==============================] - 4s 9ms/step - loss: 0.0284 - mae: 0.1957 - lr: 0.0251\n",
            "Epoch 74/100\n",
            "466/466 [==============================] - 4s 9ms/step - loss: 0.0267 - mae: 0.1871 - lr: 0.0271\n",
            "Epoch 75/100\n",
            "466/466 [==============================] - 4s 9ms/step - loss: 0.0262 - mae: 0.1871 - lr: 0.0293\n",
            "Epoch 76/100\n",
            "466/466 [==============================] - 4s 9ms/step - loss: 0.0268 - mae: 0.1890 - lr: 0.0316\n",
            "Epoch 77/100\n",
            "466/466 [==============================] - 4s 9ms/step - loss: 0.0265 - mae: 0.1838 - lr: 0.0341\n",
            "Epoch 78/100\n",
            "466/466 [==============================] - 4s 8ms/step - loss: 0.0278 - mae: 0.1929 - lr: 0.0369\n",
            "Epoch 79/100\n",
            "466/466 [==============================] - 4s 9ms/step - loss: 0.0282 - mae: 0.1940 - lr: 0.0398\n",
            "Epoch 80/100\n",
            "466/466 [==============================] - 4s 9ms/step - loss: 0.0277 - mae: 0.1932 - lr: 0.0430\n",
            "Epoch 81/100\n",
            "466/466 [==============================] - 4s 8ms/step - loss: 0.0281 - mae: 0.1918 - lr: 0.0464\n",
            "Epoch 82/100\n",
            "466/466 [==============================] - 4s 9ms/step - loss: 0.0281 - mae: 0.1925 - lr: 0.0501\n",
            "Epoch 83/100\n",
            "466/466 [==============================] - 4s 9ms/step - loss: 0.0287 - mae: 0.1951 - lr: 0.0541\n",
            "Epoch 84/100\n",
            "466/466 [==============================] - 4s 9ms/step - loss: 0.0299 - mae: 0.1992 - lr: 0.0584\n",
            "Epoch 85/100\n",
            "466/466 [==============================] - 4s 9ms/step - loss: 0.0292 - mae: 0.1970 - lr: 0.0631\n",
            "Epoch 86/100\n",
            "466/466 [==============================] - 4s 9ms/step - loss: 0.0298 - mae: 0.1986 - lr: 0.0681\n",
            "Epoch 87/100\n",
            "466/466 [==============================] - 4s 9ms/step - loss: 0.0280 - mae: 0.1913 - lr: 0.0736\n",
            "Epoch 88/100\n",
            "466/466 [==============================] - 4s 9ms/step - loss: 0.0297 - mae: 0.1985 - lr: 0.0794\n",
            "Epoch 89/100\n",
            "466/466 [==============================] - 4s 8ms/step - loss: 0.0303 - mae: 0.2010 - lr: 0.0858\n",
            "Epoch 90/100\n",
            "466/466 [==============================] - 4s 9ms/step - loss: 0.0291 - mae: 0.1960 - lr: 0.0926\n",
            "Epoch 91/100\n",
            "466/466 [==============================] - 4s 9ms/step - loss: 0.0299 - mae: 0.1992 - lr: 0.1000\n",
            "Epoch 92/100\n",
            "466/466 [==============================] - 4s 9ms/step - loss: 0.0313 - mae: 0.2044 - lr: 0.1080\n",
            "Epoch 93/100\n",
            "466/466 [==============================] - 4s 8ms/step - loss: 0.0327 - mae: 0.2051 - lr: 0.1166\n",
            "Epoch 94/100\n",
            "466/466 [==============================] - 4s 9ms/step - loss: 0.0316 - mae: 0.2059 - lr: 0.1259\n",
            "Epoch 95/100\n",
            "466/466 [==============================] - 4s 8ms/step - loss: 0.0334 - mae: 0.2101 - lr: 0.1359\n",
            "Epoch 96/100\n",
            "466/466 [==============================] - 4s 8ms/step - loss: 0.0334 - mae: 0.2074 - lr: 0.1468\n",
            "Epoch 97/100\n",
            "466/466 [==============================] - 4s 9ms/step - loss: 0.0330 - mae: 0.2111 - lr: 0.1585\n",
            "Epoch 98/100\n",
            "466/466 [==============================] - 4s 8ms/step - loss: 0.0334 - mae: 0.2099 - lr: 0.1711\n",
            "Epoch 99/100\n",
            "466/466 [==============================] - 4s 9ms/step - loss: 0.0323 - mae: 0.2052 - lr: 0.1848\n",
            "Epoch 100/100\n",
            "466/466 [==============================] - 4s 9ms/step - loss: 0.0344 - mae: 0.2088 - lr: 0.1995\n"
          ]
        }
      ]
    },
    {
      "cell_type": "code",
      "metadata": {
        "colab": {
          "base_uri": "https://localhost:8080/",
          "height": 290
        },
        "id": "7oPB6pCSUGB2",
        "outputId": "cc4a2faf-5056-4f38-cce8-d540152d34fb"
      },
      "source": [
        "plt.semilogx(history.history[\"lr\"], history.history[\"loss\"])\n",
        "plt.axis([1e-4, 1e-1, 0, .2])"
      ],
      "execution_count": null,
      "outputs": [
        {
          "output_type": "execute_result",
          "data": {
            "text/plain": [
              "(0.0001, 0.1, 0.0, 0.2)"
            ]
          },
          "metadata": {},
          "execution_count": 28
        },
        {
          "output_type": "display_data",
          "data": {
            "image/png": "[encoded data removed]",
            "text/plain": [
              "<Figure size 432x288 with 1 Axes>"
            ]
          },
          "metadata": {
            "needs_background": "light"
          }
        }
      ]
    },
    {
      "cell_type": "markdown",
      "metadata": {
        "id": "Zeyp6IAGUrzQ"
      },
      "source": [
        "## Built and train dialeted convolution model"
      ]
    },
    {
      "cell_type": "code",
      "metadata": {
        "colab": {
          "base_uri": "https://localhost:8080/"
        },
        "id": "5WQIyu2NUN4c",
        "outputId": "4e69b4c0-bee1-4fe2-adeb-20cf91caf7e6"
      },
      "source": [
        "keras.backend.clear_session()\n",
        "tf.random.set_seed(42)\n",
        "np.random.seed(42)\n",
        "\n",
        "window_size = 5\n",
        "#train_set = seq2seq_window_dataset(x_train, window_size, batch_size=8)\n",
        "#valid_set = seq2seq_window_dataset(x_valid, window_size, batch_size=8)\n",
        "train_set = TimeseriesGenerator(x_train, x_train, length = window_size, batch_size=1)\n",
        "valid_set = TimeseriesGenerator(x_valid, x_valid, length = window_size, batch_size=1)\n",
        "\n",
        "model = keras.models.Sequential()\n",
        "model.add(keras.layers.InputLayer(input_shape=[None, 1]))\n",
        "for dilation_rate in (1, 2, 4, 8, 16, 32, 64):\n",
        "    model.add(\n",
        "      keras.layers.Conv1D(filters=32,\n",
        "                          kernel_size=2,\n",
        "                          strides=1,\n",
        "                          dilation_rate=dilation_rate,\n",
        "                          padding=\"causal\",\n",
        "                          activation=\"relu\")\n",
        "    )\n",
        "model.add(tf.keras.layers.Dropout(0.2))\n",
        "model.add(keras.layers.Conv1D(filters=1, kernel_size=1))\n",
        "\n",
        "optimizer = keras.optimizers.Adam(lr=2e-5)\n",
        "model.compile(loss=keras.losses.Huber(),\n",
        "              optimizer=optimizer,\n",
        "              metrics=[\"mae\"])\n",
        "\n",
        "model_checkpoint = keras.callbacks.ModelCheckpoint(\n",
        "    \"my_checkpoint.h5\", save_best_only=True)\n",
        "early_stopping = keras.callbacks.EarlyStopping(patience=30)\n",
        "history = model.fit(train_set, epochs=300,\n",
        "                    validation_data=valid_set,\n",
        "                    callbacks=[early_stopping, model_checkpoint])\n"
      ],
      "execution_count": null,
      "outputs": [
        {
          "output_type": "stream",
          "name": "stderr",
          "text": [
            "/usr/local/lib/python3.7/dist-packages/keras/optimizer_v2/adam.py:105: UserWarning: The `lr` argument is deprecated, use `learning_rate` instead.\n",
            "  super(Adam, self).__init__(name, **kwargs)\n"
          ]
        },
        {
          "output_type": "stream",
          "name": "stdout",
          "text": [
            "Epoch 1/300\n",
            "465/465 [==============================] - 8s 12ms/step - loss: 0.0774 - mae: 0.3249 - val_loss: 0.1405 - val_mae: 0.4755\n",
            "Epoch 2/300\n",
            "465/465 [==============================] - 5s 11ms/step - loss: 0.0525 - mae: 0.2617 - val_loss: 0.0860 - val_mae: 0.3540\n",
            "Epoch 3/300\n",
            "465/465 [==============================] - 5s 11ms/step - loss: 0.0265 - mae: 0.1851 - val_loss: 0.0382 - val_mae: 0.2177\n",
            "Epoch 4/300\n",
            "465/465 [==============================] - 5s 11ms/step - loss: 0.0179 - mae: 0.1533 - val_loss: 0.0263 - val_mae: 0.1790\n",
            "Epoch 5/300\n",
            "465/465 [==============================] - 5s 11ms/step - loss: 0.0151 - mae: 0.1412 - val_loss: 0.0230 - val_mae: 0.1662\n",
            "Epoch 6/300\n",
            "465/465 [==============================] - 5s 11ms/step - loss: 0.0129 - mae: 0.1295 - val_loss: 0.0195 - val_mae: 0.1514\n",
            "Epoch 7/300\n",
            "465/465 [==============================] - 5s 11ms/step - loss: 0.0108 - mae: 0.1178 - val_loss: 0.0152 - val_mae: 0.1321\n",
            "Epoch 8/300\n",
            "465/465 [==============================] - 5s 11ms/step - loss: 0.0079 - mae: 0.0988 - val_loss: 0.0112 - val_mae: 0.1108\n",
            "Epoch 9/300\n",
            "465/465 [==============================] - 5s 11ms/step - loss: 0.0056 - mae: 0.0805 - val_loss: 0.0078 - val_mae: 0.0902\n",
            "Epoch 10/300\n",
            "465/465 [==============================] - 5s 11ms/step - loss: 0.0046 - mae: 0.0674 - val_loss: 0.0063 - val_mae: 0.0820\n",
            "Epoch 11/300\n",
            "465/465 [==============================] - 5s 11ms/step - loss: 0.0037 - mae: 0.0614 - val_loss: 0.0054 - val_mae: 0.0764\n",
            "Epoch 12/300\n",
            "465/465 [==============================] - 5s 11ms/step - loss: 0.0033 - mae: 0.0571 - val_loss: 0.0046 - val_mae: 0.0717\n",
            "Epoch 13/300\n",
            "465/465 [==============================] - 5s 11ms/step - loss: 0.0034 - mae: 0.0566 - val_loss: 0.0044 - val_mae: 0.0705\n",
            "Epoch 14/300\n",
            "465/465 [==============================] - 5s 11ms/step - loss: 0.0031 - mae: 0.0550 - val_loss: 0.0040 - val_mae: 0.0683\n",
            "Epoch 15/300\n",
            "465/465 [==============================] - 5s 11ms/step - loss: 0.0032 - mae: 0.0554 - val_loss: 0.0039 - val_mae: 0.0674\n",
            "Epoch 16/300\n",
            "465/465 [==============================] - 5s 11ms/step - loss: 0.0030 - mae: 0.0544 - val_loss: 0.0038 - val_mae: 0.0670\n",
            "Epoch 17/300\n",
            "465/465 [==============================] - 5s 11ms/step - loss: 0.0031 - mae: 0.0551 - val_loss: 0.0040 - val_mae: 0.0684\n",
            "Epoch 18/300\n",
            "465/465 [==============================] - 5s 11ms/step - loss: 0.0029 - mae: 0.0524 - val_loss: 0.0038 - val_mae: 0.0670\n",
            "Epoch 19/300\n",
            "465/465 [==============================] - 5s 11ms/step - loss: 0.0028 - mae: 0.0527 - val_loss: 0.0035 - val_mae: 0.0652\n",
            "Epoch 20/300\n",
            "465/465 [==============================] - 5s 11ms/step - loss: 0.0029 - mae: 0.0533 - val_loss: 0.0037 - val_mae: 0.0657\n",
            "Epoch 21/300\n",
            "465/465 [==============================] - 5s 11ms/step - loss: 0.0029 - mae: 0.0517 - val_loss: 0.0037 - val_mae: 0.0663\n",
            "Epoch 22/300\n",
            "465/465 [==============================] - 5s 11ms/step - loss: 0.0026 - mae: 0.0504 - val_loss: 0.0036 - val_mae: 0.0650\n",
            "Epoch 23/300\n",
            "465/465 [==============================] - 5s 11ms/step - loss: 0.0026 - mae: 0.0508 - val_loss: 0.0037 - val_mae: 0.0658\n",
            "Epoch 24/300\n",
            "465/465 [==============================] - 5s 11ms/step - loss: 0.0028 - mae: 0.0510 - val_loss: 0.0036 - val_mae: 0.0656\n",
            "Epoch 25/300\n",
            "465/465 [==============================] - 5s 11ms/step - loss: 0.0027 - mae: 0.0508 - val_loss: 0.0037 - val_mae: 0.0665\n",
            "Epoch 26/300\n",
            "465/465 [==============================] - 5s 11ms/step - loss: 0.0025 - mae: 0.0488 - val_loss: 0.0034 - val_mae: 0.0637\n",
            "Epoch 27/300\n",
            "465/465 [==============================] - 5s 11ms/step - loss: 0.0027 - mae: 0.0502 - val_loss: 0.0035 - val_mae: 0.0644\n",
            "Epoch 28/300\n",
            "465/465 [==============================] - 5s 11ms/step - loss: 0.0027 - mae: 0.0503 - val_loss: 0.0036 - val_mae: 0.0652\n",
            "Epoch 29/300\n",
            "465/465 [==============================] - 5s 11ms/step - loss: 0.0025 - mae: 0.0485 - val_loss: 0.0035 - val_mae: 0.0638\n",
            "Epoch 30/300\n",
            "465/465 [==============================] - 5s 10ms/step - loss: 0.0025 - mae: 0.0480 - val_loss: 0.0034 - val_mae: 0.0637\n",
            "Epoch 31/300\n",
            "465/465 [==============================] - 5s 10ms/step - loss: 0.0025 - mae: 0.0484 - val_loss: 0.0036 - val_mae: 0.0646\n",
            "Epoch 32/300\n",
            "465/465 [==============================] - 5s 10ms/step - loss: 0.0026 - mae: 0.0494 - val_loss: 0.0034 - val_mae: 0.0632\n",
            "Epoch 33/300\n",
            "465/465 [==============================] - 5s 10ms/step - loss: 0.0026 - mae: 0.0484 - val_loss: 0.0035 - val_mae: 0.0643\n",
            "Epoch 34/300\n",
            "465/465 [==============================] - 5s 10ms/step - loss: 0.0026 - mae: 0.0488 - val_loss: 0.0039 - val_mae: 0.0682\n",
            "Epoch 35/300\n",
            "465/465 [==============================] - 5s 10ms/step - loss: 0.0026 - mae: 0.0483 - val_loss: 0.0036 - val_mae: 0.0653\n",
            "Epoch 36/300\n",
            "465/465 [==============================] - 5s 10ms/step - loss: 0.0024 - mae: 0.0476 - val_loss: 0.0034 - val_mae: 0.0643\n",
            "Epoch 37/300\n",
            "465/465 [==============================] - 5s 10ms/step - loss: 0.0024 - mae: 0.0473 - val_loss: 0.0034 - val_mae: 0.0633\n",
            "Epoch 38/300\n",
            "465/465 [==============================] - 5s 10ms/step - loss: 0.0025 - mae: 0.0487 - val_loss: 0.0037 - val_mae: 0.0667\n",
            "Epoch 39/300\n",
            "465/465 [==============================] - 5s 10ms/step - loss: 0.0025 - mae: 0.0479 - val_loss: 0.0035 - val_mae: 0.0636\n",
            "Epoch 40/300\n",
            "465/465 [==============================] - 5s 11ms/step - loss: 0.0024 - mae: 0.0475 - val_loss: 0.0034 - val_mae: 0.0633\n",
            "Epoch 41/300\n",
            "465/465 [==============================] - 5s 10ms/step - loss: 0.0022 - mae: 0.0463 - val_loss: 0.0035 - val_mae: 0.0637\n",
            "Epoch 42/300\n",
            "465/465 [==============================] - 5s 10ms/step - loss: 0.0024 - mae: 0.0480 - val_loss: 0.0041 - val_mae: 0.0710\n",
            "Epoch 43/300\n",
            "465/465 [==============================] - 5s 10ms/step - loss: 0.0024 - mae: 0.0470 - val_loss: 0.0035 - val_mae: 0.0638\n",
            "Epoch 44/300\n",
            "465/465 [==============================] - 5s 11ms/step - loss: 0.0024 - mae: 0.0474 - val_loss: 0.0034 - val_mae: 0.0632\n",
            "Epoch 45/300\n",
            "465/465 [==============================] - 5s 10ms/step - loss: 0.0023 - mae: 0.0466 - val_loss: 0.0034 - val_mae: 0.0633\n",
            "Epoch 46/300\n",
            "465/465 [==============================] - 5s 10ms/step - loss: 0.0025 - mae: 0.0478 - val_loss: 0.0034 - val_mae: 0.0630\n",
            "Epoch 47/300\n",
            "465/465 [==============================] - 5s 10ms/step - loss: 0.0024 - mae: 0.0469 - val_loss: 0.0035 - val_mae: 0.0646\n",
            "Epoch 48/300\n",
            "465/465 [==============================] - 5s 10ms/step - loss: 0.0022 - mae: 0.0453 - val_loss: 0.0035 - val_mae: 0.0641\n",
            "Epoch 49/300\n",
            "465/465 [==============================] - 5s 10ms/step - loss: 0.0023 - mae: 0.0462 - val_loss: 0.0034 - val_mae: 0.0633\n",
            "Epoch 50/300\n",
            "465/465 [==============================] - 5s 10ms/step - loss: 0.0024 - mae: 0.0469 - val_loss: 0.0036 - val_mae: 0.0653\n",
            "Epoch 51/300\n",
            "465/465 [==============================] - 5s 10ms/step - loss: 0.0024 - mae: 0.0474 - val_loss: 0.0034 - val_mae: 0.0628\n",
            "Epoch 52/300\n",
            "465/465 [==============================] - 5s 11ms/step - loss: 0.0022 - mae: 0.0452 - val_loss: 0.0034 - val_mae: 0.0629\n",
            "Epoch 53/300\n",
            "465/465 [==============================] - 5s 11ms/step - loss: 0.0022 - mae: 0.0457 - val_loss: 0.0035 - val_mae: 0.0644\n",
            "Epoch 54/300\n",
            "465/465 [==============================] - 5s 11ms/step - loss: 0.0023 - mae: 0.0457 - val_loss: 0.0034 - val_mae: 0.0635\n",
            "Epoch 55/300\n",
            "465/465 [==============================] - 5s 11ms/step - loss: 0.0022 - mae: 0.0449 - val_loss: 0.0034 - val_mae: 0.0630\n",
            "Epoch 56/300\n",
            "465/465 [==============================] - 5s 11ms/step - loss: 0.0023 - mae: 0.0456 - val_loss: 0.0034 - val_mae: 0.0631\n",
            "Epoch 57/300\n",
            "465/465 [==============================] - 5s 11ms/step - loss: 0.0023 - mae: 0.0456 - val_loss: 0.0034 - val_mae: 0.0636\n",
            "Epoch 58/300\n",
            "465/465 [==============================] - 5s 11ms/step - loss: 0.0023 - mae: 0.0451 - val_loss: 0.0034 - val_mae: 0.0632\n",
            "Epoch 59/300\n",
            "465/465 [==============================] - 5s 10ms/step - loss: 0.0023 - mae: 0.0456 - val_loss: 0.0040 - val_mae: 0.0697\n",
            "Epoch 60/300\n",
            "465/465 [==============================] - 5s 10ms/step - loss: 0.0023 - mae: 0.0461 - val_loss: 0.0033 - val_mae: 0.0623\n",
            "Epoch 61/300\n",
            "465/465 [==============================] - 5s 10ms/step - loss: 0.0021 - mae: 0.0454 - val_loss: 0.0034 - val_mae: 0.0632\n",
            "Epoch 62/300\n",
            "465/465 [==============================] - 5s 10ms/step - loss: 0.0023 - mae: 0.0453 - val_loss: 0.0034 - val_mae: 0.0625\n",
            "Epoch 63/300\n",
            "465/465 [==============================] - 5s 10ms/step - loss: 0.0023 - mae: 0.0455 - val_loss: 0.0034 - val_mae: 0.0635\n",
            "Epoch 64/300\n",
            "465/465 [==============================] - 5s 10ms/step - loss: 0.0022 - mae: 0.0452 - val_loss: 0.0034 - val_mae: 0.0628\n",
            "Epoch 65/300\n",
            "465/465 [==============================] - 5s 10ms/step - loss: 0.0021 - mae: 0.0442 - val_loss: 0.0036 - val_mae: 0.0657\n",
            "Epoch 66/300\n",
            "465/465 [==============================] - 5s 10ms/step - loss: 0.0022 - mae: 0.0449 - val_loss: 0.0034 - val_mae: 0.0628\n",
            "Epoch 67/300\n",
            "465/465 [==============================] - 5s 10ms/step - loss: 0.0023 - mae: 0.0461 - val_loss: 0.0034 - val_mae: 0.0631\n",
            "Epoch 68/300\n",
            "465/465 [==============================] - 5s 11ms/step - loss: 0.0022 - mae: 0.0457 - val_loss: 0.0034 - val_mae: 0.0632\n",
            "Epoch 69/300\n",
            "465/465 [==============================] - 5s 11ms/step - loss: 0.0022 - mae: 0.0444 - val_loss: 0.0034 - val_mae: 0.0637\n",
            "Epoch 70/300\n",
            "465/465 [==============================] - 5s 11ms/step - loss: 0.0021 - mae: 0.0450 - val_loss: 0.0034 - val_mae: 0.0637\n",
            "Epoch 71/300\n",
            "465/465 [==============================] - 5s 11ms/step - loss: 0.0022 - mae: 0.0450 - val_loss: 0.0035 - val_mae: 0.0636\n",
            "Epoch 72/300\n",
            "465/465 [==============================] - 5s 11ms/step - loss: 0.0023 - mae: 0.0449 - val_loss: 0.0034 - val_mae: 0.0629\n",
            "Epoch 73/300\n",
            "465/465 [==============================] - 5s 11ms/step - loss: 0.0022 - mae: 0.0446 - val_loss: 0.0034 - val_mae: 0.0632\n",
            "Epoch 74/300\n",
            "465/465 [==============================] - 5s 11ms/step - loss: 0.0022 - mae: 0.0448 - val_loss: 0.0034 - val_mae: 0.0626\n",
            "Epoch 75/300\n",
            "465/465 [==============================] - 5s 10ms/step - loss: 0.0021 - mae: 0.0436 - val_loss: 0.0034 - val_mae: 0.0634\n",
            "Epoch 76/300\n",
            "465/465 [==============================] - 5s 10ms/step - loss: 0.0021 - mae: 0.0443 - val_loss: 0.0034 - val_mae: 0.0633\n",
            "Epoch 77/300\n",
            "465/465 [==============================] - 5s 10ms/step - loss: 0.0022 - mae: 0.0439 - val_loss: 0.0034 - val_mae: 0.0631\n",
            "Epoch 78/300\n",
            "465/465 [==============================] - 5s 10ms/step - loss: 0.0022 - mae: 0.0447 - val_loss: 0.0035 - val_mae: 0.0639\n",
            "Epoch 79/300\n",
            "465/465 [==============================] - 5s 10ms/step - loss: 0.0022 - mae: 0.0445 - val_loss: 0.0035 - val_mae: 0.0646\n",
            "Epoch 80/300\n",
            "465/465 [==============================] - 5s 10ms/step - loss: 0.0020 - mae: 0.0427 - val_loss: 0.0035 - val_mae: 0.0641\n",
            "Epoch 81/300\n",
            "465/465 [==============================] - 5s 10ms/step - loss: 0.0022 - mae: 0.0448 - val_loss: 0.0036 - val_mae: 0.0653\n",
            "Epoch 82/300\n",
            "465/465 [==============================] - 5s 10ms/step - loss: 0.0021 - mae: 0.0438 - val_loss: 0.0034 - val_mae: 0.0635\n",
            "Epoch 83/300\n",
            "465/465 [==============================] - 5s 11ms/step - loss: 0.0021 - mae: 0.0441 - val_loss: 0.0036 - val_mae: 0.0648\n",
            "Epoch 84/300\n",
            "465/465 [==============================] - 6s 12ms/step - loss: 0.0021 - mae: 0.0437 - val_loss: 0.0036 - val_mae: 0.0657\n",
            "Epoch 85/300\n",
            "465/465 [==============================] - 6s 12ms/step - loss: 0.0021 - mae: 0.0441 - val_loss: 0.0034 - val_mae: 0.0628\n",
            "Epoch 86/300\n",
            "465/465 [==============================] - 6s 12ms/step - loss: 0.0020 - mae: 0.0431 - val_loss: 0.0039 - val_mae: 0.0680\n",
            "Epoch 87/300\n",
            "465/465 [==============================] - 6s 12ms/step - loss: 0.0021 - mae: 0.0439 - val_loss: 0.0037 - val_mae: 0.0664\n",
            "Epoch 88/300\n",
            "465/465 [==============================] - 6s 12ms/step - loss: 0.0021 - mae: 0.0440 - val_loss: 0.0035 - val_mae: 0.0643\n",
            "Epoch 89/300\n",
            "465/465 [==============================] - 6s 12ms/step - loss: 0.0021 - mae: 0.0433 - val_loss: 0.0037 - val_mae: 0.0664\n",
            "Epoch 90/300\n",
            "465/465 [==============================] - 6s 12ms/step - loss: 0.0020 - mae: 0.0437 - val_loss: 0.0036 - val_mae: 0.0656\n"
          ]
        }
      ]
    },
    {
      "cell_type": "code",
      "metadata": {
        "colab": {
          "base_uri": "https://localhost:8080/"
        },
        "id": "nOtfYUt9akLA",
        "outputId": "38a42183-dbb3-40c1-9d0d-c9d96e8ae16f"
      },
      "source": [
        "#print(train_set.numpy)\n",
        "#valid_set "
      ],
      "execution_count": null,
      "outputs": [
        {
          "output_type": "execute_result",
          "data": {
            "text/plain": [
              "<PrefetchDataset shapes: ((None, None, 1, 1), (None, None, 1, 1)), types: (tf.float64, tf.float64)>"
            ]
          },
          "metadata": {},
          "execution_count": 124
        }
      ]
    },
    {
      "cell_type": "code",
      "metadata": {
        "id": "Lf-h_ZpdUR8N"
      },
      "source": [
        "model = keras.models.load_model(\"my_checkpoint.h5\")"
      ],
      "execution_count": null,
      "outputs": []
    },
    {
      "cell_type": "code",
      "metadata": {
        "id": "ZZQqnH_3AoxU"
      },
      "source": [
        "days = 90"
      ],
      "execution_count": null,
      "outputs": []
    },
    {
      "cell_type": "markdown",
      "metadata": {
        "id": "ynqxJfFGU0sg"
      },
      "source": [
        "make predictions and format data "
      ]
    },
    {
      "cell_type": "code",
      "metadata": {
        "id": "_wUyelW4UV1b"
      },
      "source": [
        "rnn_forecast = model.predict(series[np.newaxis, :, np.newaxis])\n",
        "rnn_forecast = rnn_forecast[0, split_time - (1):-1, 0]"
      ],
      "execution_count": null,
      "outputs": []
    },
    {
      "cell_type": "code",
      "metadata": {
        "id": "z1P3xuYECWWI"
      },
      "source": [
        "rnn_forecastFuture = model.predict(series[np.newaxis, :, np.newaxis])\n",
        "rnn_forecastFuture = rnn_forecastFuture[0, split_time - (1+days):-1, 0]"
      ],
      "execution_count": null,
      "outputs": []
    },
    {
      "cell_type": "code",
      "metadata": {
        "id": "AQmSn2G_Ymlb"
      },
      "source": [
        "rnn_forecastFuture1 = model.predict(series[np.newaxis, :, np.newaxis])\n",
        "rnn_forecastFuture1 = rnn_forecastFuture1[0, split_time_pred - (1+days):-1, 0]"
      ],
      "execution_count": null,
      "outputs": []
    },
    {
      "cell_type": "code",
      "metadata": {
        "colab": {
          "base_uri": "https://localhost:8080/",
          "height": 419
        },
        "id": "ed_560drELK0",
        "outputId": "210d549a-b4f8-47e4-9bba-822a3998456e"
      },
      "source": [
        "time_valid1 = pd.DataFrame(time_valid, columns = ['Fecha'])\n",
        "time_valid1"
      ],
      "execution_count": null,
      "outputs": [
        {
          "output_type": "execute_result",
          "data": {
            "text/html": [
              "<div>\n",
              "<style scoped>\n",
              "    .dataframe tbody tr th:only-of-type {\n",
              "        vertical-align: middle;\n",
              "    }\n",
              "\n",
              "    .dataframe tbody tr th {\n",
              "        vertical-align: top;\n",
              "    }\n",
              "\n",
              "    .dataframe thead th {\n",
              "        text-align: right;\n",
              "    }\n",
              "</style>\n",
              "<table border=\"1\" class=\"dataframe\">\n",
              "  <thead>\n",
              "    <tr style=\"text-align: right;\">\n",
              "      <th></th>\n",
              "      <th>Fecha</th>\n",
              "    </tr>\n",
              "  </thead>\n",
              "  <tbody>\n",
              "    <tr>\n",
              "      <th>0</th>\n",
              "      <td>2021-06-27</td>\n",
              "    </tr>\n",
              "    <tr>\n",
              "      <th>1</th>\n",
              "      <td>2021-06-28</td>\n",
              "    </tr>\n",
              "    <tr>\n",
              "      <th>2</th>\n",
              "      <td>2021-06-29</td>\n",
              "    </tr>\n",
              "    <tr>\n",
              "      <th>3</th>\n",
              "      <td>2021-06-30</td>\n",
              "    </tr>\n",
              "    <tr>\n",
              "      <th>4</th>\n",
              "      <td>2021-07-01</td>\n",
              "    </tr>\n",
              "    <tr>\n",
              "      <th>...</th>\n",
              "      <td>...</td>\n",
              "    </tr>\n",
              "    <tr>\n",
              "      <th>92</th>\n",
              "      <td>2021-09-27</td>\n",
              "    </tr>\n",
              "    <tr>\n",
              "      <th>93</th>\n",
              "      <td>2021-09-28</td>\n",
              "    </tr>\n",
              "    <tr>\n",
              "      <th>94</th>\n",
              "      <td>2021-09-29</td>\n",
              "    </tr>\n",
              "    <tr>\n",
              "      <th>95</th>\n",
              "      <td>2021-09-30</td>\n",
              "    </tr>\n",
              "    <tr>\n",
              "      <th>96</th>\n",
              "      <td>2021-10-01</td>\n",
              "    </tr>\n",
              "  </tbody>\n",
              "</table>\n",
              "<p>97 rows × 1 columns</p>\n",
              "</div>"
            ],
            "text/plain": [
              "        Fecha\n",
              "0  2021-06-27\n",
              "1  2021-06-28\n",
              "2  2021-06-29\n",
              "3  2021-06-30\n",
              "4  2021-07-01\n",
              "..        ...\n",
              "92 2021-09-27\n",
              "93 2021-09-28\n",
              "94 2021-09-29\n",
              "95 2021-09-30\n",
              "96 2021-10-01\n",
              "\n",
              "[97 rows x 1 columns]"
            ]
          },
          "metadata": {},
          "execution_count": 28
        }
      ]
    },
    {
      "cell_type": "code",
      "metadata": {
        "id": "cPiWAnSq-PfX"
      },
      "source": [
        "last_date = time_valid1[\"Fecha\"].iloc[-1]\n",
        "\n",
        "#date_1 = datetime.datetime.strptime(start_date, \"%m/%d/%y\")   split_time - days\n",
        "#end_date = date_1 + datetime.timedelta(days=10)\n",
        "for i in range(days):\n",
        "  last_date = last_date + datetime.timedelta(days=1)\n",
        "  time_valid1 = time_valid1.append({'Fecha': last_date}, ignore_index=True)\n",
        "time_valid1 = time_valid1.to_numpy().reshape(-1)\n"
      ],
      "execution_count": null,
      "outputs": []
    },
    {
      "cell_type": "code",
      "metadata": {
        "colab": {
          "base_uri": "https://localhost:8080/"
        },
        "id": "p2_X52DnDPMo",
        "outputId": "db557abf-67b0-449e-8bd6-22aa1faaf07b"
      },
      "source": [
        "time_valid1.shape"
      ],
      "execution_count": null,
      "outputs": [
        {
          "output_type": "execute_result",
          "data": {
            "text/plain": [
              "(187,)"
            ]
          },
          "metadata": {},
          "execution_count": 30
        }
      ]
    },
    {
      "cell_type": "code",
      "metadata": {
        "id": "EobDX0AbaStE"
      },
      "source": [
        "time_valid_pred = time[split_time_pred:]"
      ],
      "execution_count": null,
      "outputs": []
    },
    {
      "cell_type": "code",
      "metadata": {
        "colab": {
          "base_uri": "https://localhost:8080/",
          "height": 1000
        },
        "id": "Erhv0rvFZRol",
        "outputId": "199446b0-55ea-4115-fe2a-9780d4804ce6"
      },
      "source": [
        "time_valid_pred = pd.DataFrame(time_valid_pred, columns = ['Fecha'])\n",
        "time_valid_pred"
      ],
      "execution_count": null,
      "outputs": [
        {
          "output_type": "execute_result",
          "data": {
            "text/html": [
              "<div>\n",
              "<style scoped>\n",
              "    .dataframe tbody tr th:only-of-type {\n",
              "        vertical-align: middle;\n",
              "    }\n",
              "\n",
              "    .dataframe tbody tr th {\n",
              "        vertical-align: top;\n",
              "    }\n",
              "\n",
              "    .dataframe thead th {\n",
              "        text-align: right;\n",
              "    }\n",
              "</style>\n",
              "<table border=\"1\" class=\"dataframe\">\n",
              "  <thead>\n",
              "    <tr style=\"text-align: right;\">\n",
              "      <th></th>\n",
              "      <th>Fecha</th>\n",
              "    </tr>\n",
              "  </thead>\n",
              "  <tbody>\n",
              "    <tr>\n",
              "      <th>0</th>\n",
              "      <td>2021-08-31</td>\n",
              "    </tr>\n",
              "    <tr>\n",
              "      <th>1</th>\n",
              "      <td>2021-09-01</td>\n",
              "    </tr>\n",
              "    <tr>\n",
              "      <th>2</th>\n",
              "      <td>2021-09-02</td>\n",
              "    </tr>\n",
              "    <tr>\n",
              "      <th>3</th>\n",
              "      <td>2021-09-03</td>\n",
              "    </tr>\n",
              "    <tr>\n",
              "      <th>4</th>\n",
              "      <td>2021-09-04</td>\n",
              "    </tr>\n",
              "    <tr>\n",
              "      <th>5</th>\n",
              "      <td>2021-09-05</td>\n",
              "    </tr>\n",
              "    <tr>\n",
              "      <th>6</th>\n",
              "      <td>2021-09-06</td>\n",
              "    </tr>\n",
              "    <tr>\n",
              "      <th>7</th>\n",
              "      <td>2021-09-07</td>\n",
              "    </tr>\n",
              "    <tr>\n",
              "      <th>8</th>\n",
              "      <td>2021-09-08</td>\n",
              "    </tr>\n",
              "    <tr>\n",
              "      <th>9</th>\n",
              "      <td>2021-09-09</td>\n",
              "    </tr>\n",
              "    <tr>\n",
              "      <th>10</th>\n",
              "      <td>2021-09-10</td>\n",
              "    </tr>\n",
              "    <tr>\n",
              "      <th>11</th>\n",
              "      <td>2021-09-11</td>\n",
              "    </tr>\n",
              "    <tr>\n",
              "      <th>12</th>\n",
              "      <td>2021-09-12</td>\n",
              "    </tr>\n",
              "    <tr>\n",
              "      <th>13</th>\n",
              "      <td>2021-09-13</td>\n",
              "    </tr>\n",
              "    <tr>\n",
              "      <th>14</th>\n",
              "      <td>2021-09-14</td>\n",
              "    </tr>\n",
              "    <tr>\n",
              "      <th>15</th>\n",
              "      <td>2021-09-15</td>\n",
              "    </tr>\n",
              "    <tr>\n",
              "      <th>16</th>\n",
              "      <td>2021-09-16</td>\n",
              "    </tr>\n",
              "    <tr>\n",
              "      <th>17</th>\n",
              "      <td>2021-09-17</td>\n",
              "    </tr>\n",
              "    <tr>\n",
              "      <th>18</th>\n",
              "      <td>2021-09-18</td>\n",
              "    </tr>\n",
              "    <tr>\n",
              "      <th>19</th>\n",
              "      <td>2021-09-19</td>\n",
              "    </tr>\n",
              "    <tr>\n",
              "      <th>20</th>\n",
              "      <td>2021-09-20</td>\n",
              "    </tr>\n",
              "    <tr>\n",
              "      <th>21</th>\n",
              "      <td>2021-09-21</td>\n",
              "    </tr>\n",
              "    <tr>\n",
              "      <th>22</th>\n",
              "      <td>2021-09-22</td>\n",
              "    </tr>\n",
              "    <tr>\n",
              "      <th>23</th>\n",
              "      <td>2021-09-23</td>\n",
              "    </tr>\n",
              "    <tr>\n",
              "      <th>24</th>\n",
              "      <td>2021-09-24</td>\n",
              "    </tr>\n",
              "    <tr>\n",
              "      <th>25</th>\n",
              "      <td>2021-09-25</td>\n",
              "    </tr>\n",
              "    <tr>\n",
              "      <th>26</th>\n",
              "      <td>2021-09-26</td>\n",
              "    </tr>\n",
              "    <tr>\n",
              "      <th>27</th>\n",
              "      <td>2021-09-27</td>\n",
              "    </tr>\n",
              "    <tr>\n",
              "      <th>28</th>\n",
              "      <td>2021-09-28</td>\n",
              "    </tr>\n",
              "    <tr>\n",
              "      <th>29</th>\n",
              "      <td>2021-09-29</td>\n",
              "    </tr>\n",
              "    <tr>\n",
              "      <th>30</th>\n",
              "      <td>2021-09-30</td>\n",
              "    </tr>\n",
              "    <tr>\n",
              "      <th>31</th>\n",
              "      <td>2021-10-01</td>\n",
              "    </tr>\n",
              "  </tbody>\n",
              "</table>\n",
              "</div>"
            ],
            "text/plain": [
              "        Fecha\n",
              "0  2021-08-31\n",
              "1  2021-09-01\n",
              "2  2021-09-02\n",
              "3  2021-09-03\n",
              "4  2021-09-04\n",
              "5  2021-09-05\n",
              "6  2021-09-06\n",
              "7  2021-09-07\n",
              "8  2021-09-08\n",
              "9  2021-09-09\n",
              "10 2021-09-10\n",
              "11 2021-09-11\n",
              "12 2021-09-12\n",
              "13 2021-09-13\n",
              "14 2021-09-14\n",
              "15 2021-09-15\n",
              "16 2021-09-16\n",
              "17 2021-09-17\n",
              "18 2021-09-18\n",
              "19 2021-09-19\n",
              "20 2021-09-20\n",
              "21 2021-09-21\n",
              "22 2021-09-22\n",
              "23 2021-09-23\n",
              "24 2021-09-24\n",
              "25 2021-09-25\n",
              "26 2021-09-26\n",
              "27 2021-09-27\n",
              "28 2021-09-28\n",
              "29 2021-09-29\n",
              "30 2021-09-30\n",
              "31 2021-10-01"
            ]
          },
          "metadata": {},
          "execution_count": 108
        }
      ]
    },
    {
      "cell_type": "code",
      "metadata": {
        "id": "uL4K8W1tBP5K"
      },
      "source": [
        "last_date_pred = time_valid_pred[\"Fecha\"].iloc[-1]\n",
        "\n",
        "#date_1 = datetime.datetime.strptime(start_date, \"%m/%d/%y\")   split_time - days\n",
        "#end_date = date_1 + datetime.timedelta(days=10)\n",
        "for i in range(days):\n",
        "  last_date_pred = last_date_pred + datetime.timedelta(days=1)\n",
        "  time_valid_pred = time_valid_pred.append({'Fecha': last_date_pred}, ignore_index=True)\n",
        "time_valid_pred = time_valid_pred.to_numpy().reshape(-1)"
      ],
      "execution_count": null,
      "outputs": []
    },
    {
      "cell_type": "markdown",
      "metadata": {
        "id": "jxTmHUroVHIz"
      },
      "source": [
        "## Plot results"
      ]
    },
    {
      "cell_type": "code",
      "metadata": {
        "colab": {
          "base_uri": "https://localhost:8080/",
          "height": 388
        },
        "id": "zCmBfOkBUWqY",
        "outputId": "ab1bf989-ff5c-4858-ad38-aae7fbc80cc2"
      },
      "source": [
        "#plt.figure(figsize=(10, 6))\n",
        "#plot_series(time_valid, scaler.inverse_transform(x_valid))\n",
        "#plot_series(time_valid, np.absolute(lin_forecast))\n",
        "plt.figure(figsize=(10, 6))\n",
        "plot_series(time_valid, scaler.inverse_transform(x_valid))\n",
        "plot_series(time_valid, rnn_forecast)"
      ],
      "execution_count": null,
      "outputs": [
        {
          "output_type": "display_data",
          "data": {
            "image/png": "[encoded data removed]",
            "text/plain": [
              "<Figure size 720x432 with 1 Axes>"
            ]
          },
          "metadata": {
            "needs_background": "light"
          }
        }
      ]
    },
    {
      "cell_type": "code",
      "metadata": {
        "colab": {
          "base_uri": "https://localhost:8080/"
        },
        "id": "MFVNCy8OITO6",
        "outputId": "5d9dddab-67c8-4cf5-9d33-4d244ed44fad"
      },
      "source": [
        "from sklearn.metrics import mean_absolute_error\n",
        "mean_absolute_error(x_valid, rnn_forecast)"
      ],
      "execution_count": null,
      "outputs": [
        {
          "output_type": "execute_result",
          "data": {
            "text/plain": [
              "1102.4735698603597"
            ]
          },
          "metadata": {},
          "execution_count": 23
        }
      ]
    },
    {
      "cell_type": "code",
      "metadata": {
        "colab": {
          "base_uri": "https://localhost:8080/"
        },
        "id": "fynsl-w6I70f",
        "outputId": "a7143799-14e8-4148-e0b5-78d734238f46"
      },
      "source": [
        "from sklearn.metrics import mean_squared_error\n",
        "mean_squared_error(rnn_forecast, x_valid, squared=False)"
      ],
      "execution_count": null,
      "outputs": [
        {
          "output_type": "execute_result",
          "data": {
            "text/plain": [
              "1191.0736532436254"
            ]
          },
          "metadata": {},
          "execution_count": 22
        }
      ]
    },
    {
      "cell_type": "code",
      "metadata": {
        "colab": {
          "base_uri": "https://localhost:8080/",
          "height": 388
        },
        "id": "QKMXeDm8UZWy",
        "outputId": "afa49e0a-2573-4e9d-fad1-ed4901a224d6"
      },
      "source": [
        "plt.figure(figsize=(10, 6))\n",
        "#plot_series(time_valid, scaler.inverse_transform(x_valid))\n",
        "plot_series(time_valid1, rnn_forecastFuture)"
      ],
      "execution_count": null,
      "outputs": [
        {
          "output_type": "display_data",
          "data": {
            "image/png": "[encoded data removed]",
            "text/plain": [
              "<Figure size 720x432 with 1 Axes>"
            ]
          },
          "metadata": {
            "needs_background": "light"
          }
        }
      ]
    },
    {
      "cell_type": "code",
      "metadata": {
        "colab": {
          "base_uri": "https://localhost:8080/",
          "height": 388
        },
        "id": "Tdo9ExgkaA4P",
        "outputId": "fa42718c-6485-4bb4-cedb-88540a84974c"
      },
      "source": [
        "plt.figure(figsize=(10, 6))\n",
        "#plot_series(time_valid, scaler.inverse_transform(x_valid))\n",
        "plot_series(time_valid_pred, rnn_forecastFuture1)"
      ],
      "execution_count": null,
      "outputs": [
        {
          "output_type": "display_data",
          "data": {
            "image/png": "[encoded data removed]",
            "text/plain": [
              "<Figure size 720x432 with 1 Axes>"
            ]
          },
          "metadata": {
            "needs_background": "light"
          }
        }
      ]
    },
    {
      "cell_type": "markdown",
      "metadata": {
        "id": "4VZeqiNOVNAZ"
      },
      "source": [
        "## Create LSTM model"
      ]
    },
    {
      "cell_type": "code",
      "metadata": {
        "colab": {
          "base_uri": "https://localhost:8080/",
          "height": 52
        },
        "id": "bVQA-Q2RuYuE",
        "outputId": "6600ee28-6290-4bbb-e304-4cbb475b9ce4"
      },
      "source": [
        "window_size = 5\n",
        "#train_set = seq2seq_window_dataset(x_train, window_size, batch_size=8)\n",
        "#valid_set = seq2seq_window_dataset(x_valid, window_size, batch_size=8)\n",
        "train_set = TimeseriesGenerator(x_train, x_train, length = window_size, batch_size=1)\n",
        "valid_set = TimeseriesGenerator(x_valid, x_valid, length = window_size, batch_size=1)\n",
        "\n",
        "model = keras.models.Sequential(\n",
        "    [\n",
        "  keras.layers.LSTM(150, return_sequences=True, batch_input_shape=[1, None, 1 ]),\n",
        "  keras.layers.LSTM(64, return_sequences=True, stateful=True),\n",
        "  keras.layers.Dense(32),\n",
        "  keras.layers.Dense(1),\n",
        "  ]\n",
        ")\n",
        "model.compile(optimizer='adam', loss='mean_squared_error')\n",
        "#reset_states = ResetStatesCallback()\n",
        "early_stopping = keras.callbacks.EarlyStopping(patience=30)\n",
        "model_checkpoint = keras.callbacks.ModelCheckpoint(\n",
        "    \"my_checkpointLSTM.h5\", save_best_only=True)\n",
        "\n",
        "\n",
        "\n"
      ],
      "execution_count": null,
      "outputs": [
        {
          "output_type": "execute_result",
          "data": {
            "application/vnd.google.colaboratory.intrinsic+json": {
              "type": "string"
            },
            "text/plain": [
              "\"\\n\\nmodel = Sequential([\\n  keras.layers.LSTM(150, activation='relu', return_sequences=True, input_shape=(window_size, 1)),\\n  keras.layers.LSTM(64, activation='relu'),\\n  keras.layers.Dense(64),\\n  keras.layers.Dense(1)\\n  ]\\n)\\nmodel.compile(optimizer='adam', loss='mean_squared_error')\\n\""
            ]
          },
          "metadata": {},
          "execution_count": 37
        }
      ]
    },
    {
      "cell_type": "code",
      "metadata": {
        "colab": {
          "base_uri": "https://localhost:8080/"
        },
        "id": "WbHZwfeouuUh",
        "outputId": "2415429a-0920-40b9-dd35-9243b982341f"
      },
      "source": [
        "history = model.fit_generator(train_set, \n",
        "                              validation_data=valid_set, \n",
        "                              epochs=200,\n",
        "                              callbacks=[early_stopping,model_checkpoint])"
      ],
      "execution_count": null,
      "outputs": [
        {
          "output_type": "stream",
          "name": "stderr",
          "text": [
            "/usr/local/lib/python3.7/dist-packages/ipykernel_launcher.py:4: UserWarning: `Model.fit_generator` is deprecated and will be removed in a future version. Please use `Model.fit`, which supports generators.\n",
            "  after removing the cwd from sys.path.\n"
          ]
        },
        {
          "output_type": "stream",
          "name": "stdout",
          "text": [
            "Epoch 1/200\n",
            "465/465 [==============================] - 10s 12ms/step - loss: 0.0146 - val_loss: 0.0083\n",
            "Epoch 2/200\n",
            "465/465 [==============================] - 5s 10ms/step - loss: 0.0035 - val_loss: 0.0087\n",
            "Epoch 3/200\n",
            "465/465 [==============================] - 5s 10ms/step - loss: 0.0031 - val_loss: 0.0069\n",
            "Epoch 4/200\n",
            "465/465 [==============================] - 5s 10ms/step - loss: 0.0028 - val_loss: 0.0092\n",
            "Epoch 5/200\n",
            "465/465 [==============================] - 5s 10ms/step - loss: 0.0028 - val_loss: 0.0072\n",
            "Epoch 6/200\n",
            "465/465 [==============================] - 5s 10ms/step - loss: 0.0033 - val_loss: 0.0068\n",
            "Epoch 7/200\n",
            "465/465 [==============================] - 5s 10ms/step - loss: 0.0028 - val_loss: 0.0069\n",
            "Epoch 8/200\n",
            "465/465 [==============================] - 5s 10ms/step - loss: 0.0028 - val_loss: 0.0073\n",
            "Epoch 9/200\n",
            "465/465 [==============================] - 5s 10ms/step - loss: 0.0030 - val_loss: 0.0067\n",
            "Epoch 10/200\n",
            "465/465 [==============================] - 5s 10ms/step - loss: 0.0026 - val_loss: 0.0088\n",
            "Epoch 11/200\n",
            "465/465 [==============================] - 5s 10ms/step - loss: 0.0030 - val_loss: 0.0071\n",
            "Epoch 12/200\n",
            "465/465 [==============================] - 5s 10ms/step - loss: 0.0029 - val_loss: 0.0070\n",
            "Epoch 13/200\n",
            "465/465 [==============================] - 5s 10ms/step - loss: 0.0027 - val_loss: 0.0068\n",
            "Epoch 14/200\n",
            "465/465 [==============================] - 5s 10ms/step - loss: 0.0025 - val_loss: 0.0065\n",
            "Epoch 15/200\n",
            "465/465 [==============================] - 5s 10ms/step - loss: 0.0025 - val_loss: 0.0076\n",
            "Epoch 16/200\n",
            "465/465 [==============================] - 5s 10ms/step - loss: 0.0026 - val_loss: 0.0082\n",
            "Epoch 17/200\n",
            "465/465 [==============================] - 5s 10ms/step - loss: 0.0025 - val_loss: 0.0070\n",
            "Epoch 18/200\n",
            "465/465 [==============================] - 5s 10ms/step - loss: 0.0029 - val_loss: 0.0067\n",
            "Epoch 19/200\n",
            "465/465 [==============================] - 5s 10ms/step - loss: 0.0028 - val_loss: 0.0082\n",
            "Epoch 20/200\n",
            "465/465 [==============================] - 5s 10ms/step - loss: 0.0029 - val_loss: 0.0065\n",
            "Epoch 21/200\n",
            "465/465 [==============================] - 5s 10ms/step - loss: 0.0025 - val_loss: 0.0065\n",
            "Epoch 22/200\n",
            "465/465 [==============================] - 5s 10ms/step - loss: 0.0027 - val_loss: 0.0066\n",
            "Epoch 23/200\n",
            "465/465 [==============================] - 5s 10ms/step - loss: 0.0028 - val_loss: 0.0067\n",
            "Epoch 24/200\n",
            "465/465 [==============================] - 5s 10ms/step - loss: 0.0026 - val_loss: 0.0085\n",
            "Epoch 25/200\n",
            "465/465 [==============================] - 5s 10ms/step - loss: 0.0026 - val_loss: 0.0103\n",
            "Epoch 26/200\n",
            "465/465 [==============================] - 5s 10ms/step - loss: 0.0025 - val_loss: 0.0070\n",
            "Epoch 27/200\n",
            "465/465 [==============================] - 5s 10ms/step - loss: 0.0026 - val_loss: 0.0091\n",
            "Epoch 28/200\n",
            "465/465 [==============================] - 5s 10ms/step - loss: 0.0025 - val_loss: 0.0071\n",
            "Epoch 29/200\n",
            "465/465 [==============================] - 5s 10ms/step - loss: 0.0023 - val_loss: 0.0152\n",
            "Epoch 30/200\n",
            "465/465 [==============================] - 5s 10ms/step - loss: 0.0027 - val_loss: 0.0074\n",
            "Epoch 31/200\n",
            "465/465 [==============================] - 5s 10ms/step - loss: 0.0026 - val_loss: 0.0069\n",
            "Epoch 32/200\n",
            "465/465 [==============================] - 5s 10ms/step - loss: 0.0025 - val_loss: 0.0065\n",
            "Epoch 33/200\n",
            "465/465 [==============================] - 5s 10ms/step - loss: 0.0026 - val_loss: 0.0084\n",
            "Epoch 34/200\n",
            "465/465 [==============================] - 5s 10ms/step - loss: 0.0025 - val_loss: 0.0066\n",
            "Epoch 35/200\n",
            "465/465 [==============================] - 5s 10ms/step - loss: 0.0025 - val_loss: 0.0070\n",
            "Epoch 36/200\n",
            "465/465 [==============================] - 5s 10ms/step - loss: 0.0026 - val_loss: 0.0064\n",
            "Epoch 37/200\n",
            "465/465 [==============================] - 5s 10ms/step - loss: 0.0026 - val_loss: 0.0070\n",
            "Epoch 38/200\n",
            "465/465 [==============================] - 5s 10ms/step - loss: 0.0026 - val_loss: 0.0084\n",
            "Epoch 39/200\n",
            "465/465 [==============================] - 5s 10ms/step - loss: 0.0024 - val_loss: 0.0069\n",
            "Epoch 40/200\n",
            "465/465 [==============================] - 5s 10ms/step - loss: 0.0025 - val_loss: 0.0137\n",
            "Epoch 41/200\n",
            "465/465 [==============================] - 5s 10ms/step - loss: 0.0026 - val_loss: 0.0070\n",
            "Epoch 42/200\n",
            "465/465 [==============================] - 5s 10ms/step - loss: 0.0024 - val_loss: 0.0065\n",
            "Epoch 43/200\n",
            "465/465 [==============================] - 5s 10ms/step - loss: 0.0025 - val_loss: 0.0068\n",
            "Epoch 44/200\n",
            "465/465 [==============================] - 5s 10ms/step - loss: 0.0024 - val_loss: 0.0067\n",
            "Epoch 45/200\n",
            "465/465 [==============================] - 5s 10ms/step - loss: 0.0024 - val_loss: 0.0067\n",
            "Epoch 46/200\n",
            "465/465 [==============================] - 5s 10ms/step - loss: 0.0025 - val_loss: 0.0066\n",
            "Epoch 47/200\n",
            "465/465 [==============================] - 5s 10ms/step - loss: 0.0025 - val_loss: 0.0067\n",
            "Epoch 48/200\n",
            "465/465 [==============================] - 5s 10ms/step - loss: 0.0026 - val_loss: 0.0070\n",
            "Epoch 49/200\n",
            "465/465 [==============================] - 5s 10ms/step - loss: 0.0024 - val_loss: 0.0137\n",
            "Epoch 50/200\n",
            "465/465 [==============================] - 5s 10ms/step - loss: 0.0024 - val_loss: 0.0071\n",
            "Epoch 51/200\n",
            "465/465 [==============================] - 5s 10ms/step - loss: 0.0026 - val_loss: 0.0068\n",
            "Epoch 52/200\n",
            "465/465 [==============================] - 5s 10ms/step - loss: 0.0024 - val_loss: 0.0069\n",
            "Epoch 53/200\n",
            "465/465 [==============================] - 5s 10ms/step - loss: 0.0024 - val_loss: 0.0071\n",
            "Epoch 54/200\n",
            "465/465 [==============================] - 5s 10ms/step - loss: 0.0023 - val_loss: 0.0076\n",
            "Epoch 55/200\n",
            "465/465 [==============================] - 5s 10ms/step - loss: 0.0025 - val_loss: 0.0067\n",
            "Epoch 56/200\n",
            "465/465 [==============================] - 5s 10ms/step - loss: 0.0024 - val_loss: 0.0069\n",
            "Epoch 57/200\n",
            "465/465 [==============================] - 5s 10ms/step - loss: 0.0024 - val_loss: 0.0066\n",
            "Epoch 58/200\n",
            "465/465 [==============================] - 5s 10ms/step - loss: 0.0025 - val_loss: 0.0075\n",
            "Epoch 59/200\n",
            "465/465 [==============================] - 5s 10ms/step - loss: 0.0023 - val_loss: 0.0071\n",
            "Epoch 60/200\n",
            "465/465 [==============================] - 5s 10ms/step - loss: 0.0025 - val_loss: 0.0067\n",
            "Epoch 61/200\n",
            "465/465 [==============================] - 5s 10ms/step - loss: 0.0024 - val_loss: 0.0067\n",
            "Epoch 62/200\n",
            "465/465 [==============================] - 5s 10ms/step - loss: 0.0024 - val_loss: 0.0072\n",
            "Epoch 63/200\n",
            "465/465 [==============================] - 5s 10ms/step - loss: 0.0026 - val_loss: 0.0073\n",
            "Epoch 64/200\n",
            "465/465 [==============================] - 5s 10ms/step - loss: 0.0025 - val_loss: 0.0080\n",
            "Epoch 65/200\n",
            "465/465 [==============================] - 5s 10ms/step - loss: 0.0025 - val_loss: 0.0091\n",
            "Epoch 66/200\n",
            "465/465 [==============================] - 5s 10ms/step - loss: 0.0024 - val_loss: 0.0069\n"
          ]
        }
      ]
    },
    {
      "cell_type": "code",
      "metadata": {
        "id": "3bJTHzNEbUoC"
      },
      "source": [
        "model = keras.models.load_model(\"my_checkpointLSTM.h5\")"
      ],
      "execution_count": null,
      "outputs": []
    },
    {
      "cell_type": "code",
      "metadata": {
        "id": "vtSOd-x-bfPK"
      },
      "source": [
        "days = 60"
      ],
      "execution_count": null,
      "outputs": []
    },
    {
      "cell_type": "markdown",
      "metadata": {
        "id": "cusWQuDBVY0t"
      },
      "source": [
        "Make predictions with LSTM"
      ]
    },
    {
      "cell_type": "code",
      "metadata": {
        "id": "_m8KSGPFcI4V"
      },
      "source": [
        "lstm_forecast = model.predict(series[np.newaxis, :, np.newaxis])\n",
        "lstm_forecast = lstm_forecast[0, split_time - 1:- 1, 0]"
      ],
      "execution_count": null,
      "outputs": []
    },
    {
      "cell_type": "code",
      "metadata": {
        "id": "E2EoKmDewLt5"
      },
      "source": [
        "lstm_forecast1 = model.predict(series[np.newaxis, :, np.newaxis])\n",
        "lstm_forecast1 = lstm_forecast1[0, split_time - (1+days):- 1, 0]"
      ],
      "execution_count": null,
      "outputs": []
    },
    {
      "cell_type": "code",
      "metadata": {
        "id": "F3tSnWnScTTp"
      },
      "source": [
        "lstm_forecastFuture1 = model.predict(series[np.newaxis, :, np.newaxis])\n",
        "lstm_forecastFuture1 = lstm_forecastFuture1[0, split_time_pred - (1+days):-1, 0]"
      ],
      "execution_count": null,
      "outputs": []
    },
    {
      "cell_type": "code",
      "metadata": {
        "id": "ILePPDJWeoKg"
      },
      "source": [
        ""
      ],
      "execution_count": null,
      "outputs": []
    },
    {
      "cell_type": "code",
      "metadata": {
        "colab": {
          "base_uri": "https://localhost:8080/",
          "height": 419
        },
        "id": "DoYkz4444DSh",
        "outputId": "f13e3a5e-da3f-4524-a1d7-967af6d91f16"
      },
      "source": [
        "time_valid2 = pd.DataFrame(time_valid, columns = ['Fecha'])\n",
        "time_valid2"
      ],
      "execution_count": null,
      "outputs": [
        {
          "output_type": "execute_result",
          "data": {
            "text/html": [
              "<div>\n",
              "<style scoped>\n",
              "    .dataframe tbody tr th:only-of-type {\n",
              "        vertical-align: middle;\n",
              "    }\n",
              "\n",
              "    .dataframe tbody tr th {\n",
              "        vertical-align: top;\n",
              "    }\n",
              "\n",
              "    .dataframe thead th {\n",
              "        text-align: right;\n",
              "    }\n",
              "</style>\n",
              "<table border=\"1\" class=\"dataframe\">\n",
              "  <thead>\n",
              "    <tr style=\"text-align: right;\">\n",
              "      <th></th>\n",
              "      <th>Fecha</th>\n",
              "    </tr>\n",
              "  </thead>\n",
              "  <tbody>\n",
              "    <tr>\n",
              "      <th>0</th>\n",
              "      <td>2021-06-27</td>\n",
              "    </tr>\n",
              "    <tr>\n",
              "      <th>1</th>\n",
              "      <td>2021-06-28</td>\n",
              "    </tr>\n",
              "    <tr>\n",
              "      <th>2</th>\n",
              "      <td>2021-06-29</td>\n",
              "    </tr>\n",
              "    <tr>\n",
              "      <th>3</th>\n",
              "      <td>2021-06-30</td>\n",
              "    </tr>\n",
              "    <tr>\n",
              "      <th>4</th>\n",
              "      <td>2021-07-01</td>\n",
              "    </tr>\n",
              "    <tr>\n",
              "      <th>...</th>\n",
              "      <td>...</td>\n",
              "    </tr>\n",
              "    <tr>\n",
              "      <th>92</th>\n",
              "      <td>2021-09-27</td>\n",
              "    </tr>\n",
              "    <tr>\n",
              "      <th>93</th>\n",
              "      <td>2021-09-28</td>\n",
              "    </tr>\n",
              "    <tr>\n",
              "      <th>94</th>\n",
              "      <td>2021-09-29</td>\n",
              "    </tr>\n",
              "    <tr>\n",
              "      <th>95</th>\n",
              "      <td>2021-09-30</td>\n",
              "    </tr>\n",
              "    <tr>\n",
              "      <th>96</th>\n",
              "      <td>2021-10-01</td>\n",
              "    </tr>\n",
              "  </tbody>\n",
              "</table>\n",
              "<p>97 rows × 1 columns</p>\n",
              "</div>"
            ],
            "text/plain": [
              "        Fecha\n",
              "0  2021-06-27\n",
              "1  2021-06-28\n",
              "2  2021-06-29\n",
              "3  2021-06-30\n",
              "4  2021-07-01\n",
              "..        ...\n",
              "92 2021-09-27\n",
              "93 2021-09-28\n",
              "94 2021-09-29\n",
              "95 2021-09-30\n",
              "96 2021-10-01\n",
              "\n",
              "[97 rows x 1 columns]"
            ]
          },
          "metadata": {},
          "execution_count": 129
        }
      ]
    },
    {
      "cell_type": "code",
      "metadata": {
        "id": "Nmxdlrwi4uQ2"
      },
      "source": [
        "last_date1 = time_valid2[\"Fecha\"].iloc[-1]\n",
        "\n",
        "#date_1 = datetime.datetime.strptime(start_date, \"%m/%d/%y\")   split_time - days\n",
        "#end_date = date_1 + datetime.timedelta(days=10)\n",
        "for i in range(days):\n",
        "  last_date1 = last_date1 + datetime.timedelta(days=1)\n",
        "  time_valid2 = time_valid2.append({'Fecha': last_date1}, ignore_index=True)\n",
        "time_valid2 = time_valid2.to_numpy().reshape(-1)"
      ],
      "execution_count": null,
      "outputs": []
    },
    {
      "cell_type": "code",
      "metadata": {
        "id": "zWykembj7jrc"
      },
      "source": [
        ""
      ],
      "execution_count": null,
      "outputs": []
    },
    {
      "cell_type": "code",
      "metadata": {
        "id": "c6yoyLfYbp1v"
      },
      "source": [
        "time_valid_pred1 = time[split_time_pred:]"
      ],
      "execution_count": null,
      "outputs": []
    },
    {
      "cell_type": "code",
      "metadata": {
        "colab": {
          "base_uri": "https://localhost:8080/",
          "height": 1000
        },
        "id": "YPTC55xqbtd8",
        "outputId": "c41a7245-0c1d-48a5-ecfb-a779b80e032f"
      },
      "source": [
        "time_valid_pred1 = pd.DataFrame(time_valid_pred1, columns = ['Fecha'])\n",
        "time_valid_pred1"
      ],
      "execution_count": null,
      "outputs": [
        {
          "output_type": "execute_result",
          "data": {
            "text/html": [
              "<div>\n",
              "<style scoped>\n",
              "    .dataframe tbody tr th:only-of-type {\n",
              "        vertical-align: middle;\n",
              "    }\n",
              "\n",
              "    .dataframe tbody tr th {\n",
              "        vertical-align: top;\n",
              "    }\n",
              "\n",
              "    .dataframe thead th {\n",
              "        text-align: right;\n",
              "    }\n",
              "</style>\n",
              "<table border=\"1\" class=\"dataframe\">\n",
              "  <thead>\n",
              "    <tr style=\"text-align: right;\">\n",
              "      <th></th>\n",
              "      <th>Fecha</th>\n",
              "    </tr>\n",
              "  </thead>\n",
              "  <tbody>\n",
              "    <tr>\n",
              "      <th>0</th>\n",
              "      <td>2021-08-31</td>\n",
              "    </tr>\n",
              "    <tr>\n",
              "      <th>1</th>\n",
              "      <td>2021-09-01</td>\n",
              "    </tr>\n",
              "    <tr>\n",
              "      <th>2</th>\n",
              "      <td>2021-09-02</td>\n",
              "    </tr>\n",
              "    <tr>\n",
              "      <th>3</th>\n",
              "      <td>2021-09-03</td>\n",
              "    </tr>\n",
              "    <tr>\n",
              "      <th>4</th>\n",
              "      <td>2021-09-04</td>\n",
              "    </tr>\n",
              "    <tr>\n",
              "      <th>5</th>\n",
              "      <td>2021-09-05</td>\n",
              "    </tr>\n",
              "    <tr>\n",
              "      <th>6</th>\n",
              "      <td>2021-09-06</td>\n",
              "    </tr>\n",
              "    <tr>\n",
              "      <th>7</th>\n",
              "      <td>2021-09-07</td>\n",
              "    </tr>\n",
              "    <tr>\n",
              "      <th>8</th>\n",
              "      <td>2021-09-08</td>\n",
              "    </tr>\n",
              "    <tr>\n",
              "      <th>9</th>\n",
              "      <td>2021-09-09</td>\n",
              "    </tr>\n",
              "    <tr>\n",
              "      <th>10</th>\n",
              "      <td>2021-09-10</td>\n",
              "    </tr>\n",
              "    <tr>\n",
              "      <th>11</th>\n",
              "      <td>2021-09-11</td>\n",
              "    </tr>\n",
              "    <tr>\n",
              "      <th>12</th>\n",
              "      <td>2021-09-12</td>\n",
              "    </tr>\n",
              "    <tr>\n",
              "      <th>13</th>\n",
              "      <td>2021-09-13</td>\n",
              "    </tr>\n",
              "    <tr>\n",
              "      <th>14</th>\n",
              "      <td>2021-09-14</td>\n",
              "    </tr>\n",
              "    <tr>\n",
              "      <th>15</th>\n",
              "      <td>2021-09-15</td>\n",
              "    </tr>\n",
              "    <tr>\n",
              "      <th>16</th>\n",
              "      <td>2021-09-16</td>\n",
              "    </tr>\n",
              "    <tr>\n",
              "      <th>17</th>\n",
              "      <td>2021-09-17</td>\n",
              "    </tr>\n",
              "    <tr>\n",
              "      <th>18</th>\n",
              "      <td>2021-09-18</td>\n",
              "    </tr>\n",
              "    <tr>\n",
              "      <th>19</th>\n",
              "      <td>2021-09-19</td>\n",
              "    </tr>\n",
              "    <tr>\n",
              "      <th>20</th>\n",
              "      <td>2021-09-20</td>\n",
              "    </tr>\n",
              "    <tr>\n",
              "      <th>21</th>\n",
              "      <td>2021-09-21</td>\n",
              "    </tr>\n",
              "    <tr>\n",
              "      <th>22</th>\n",
              "      <td>2021-09-22</td>\n",
              "    </tr>\n",
              "    <tr>\n",
              "      <th>23</th>\n",
              "      <td>2021-09-23</td>\n",
              "    </tr>\n",
              "    <tr>\n",
              "      <th>24</th>\n",
              "      <td>2021-09-24</td>\n",
              "    </tr>\n",
              "    <tr>\n",
              "      <th>25</th>\n",
              "      <td>2021-09-25</td>\n",
              "    </tr>\n",
              "    <tr>\n",
              "      <th>26</th>\n",
              "      <td>2021-09-26</td>\n",
              "    </tr>\n",
              "    <tr>\n",
              "      <th>27</th>\n",
              "      <td>2021-09-27</td>\n",
              "    </tr>\n",
              "    <tr>\n",
              "      <th>28</th>\n",
              "      <td>2021-09-28</td>\n",
              "    </tr>\n",
              "    <tr>\n",
              "      <th>29</th>\n",
              "      <td>2021-09-29</td>\n",
              "    </tr>\n",
              "    <tr>\n",
              "      <th>30</th>\n",
              "      <td>2021-09-30</td>\n",
              "    </tr>\n",
              "    <tr>\n",
              "      <th>31</th>\n",
              "      <td>2021-10-01</td>\n",
              "    </tr>\n",
              "  </tbody>\n",
              "</table>\n",
              "</div>"
            ],
            "text/plain": [
              "        Fecha\n",
              "0  2021-08-31\n",
              "1  2021-09-01\n",
              "2  2021-09-02\n",
              "3  2021-09-03\n",
              "4  2021-09-04\n",
              "5  2021-09-05\n",
              "6  2021-09-06\n",
              "7  2021-09-07\n",
              "8  2021-09-08\n",
              "9  2021-09-09\n",
              "10 2021-09-10\n",
              "11 2021-09-11\n",
              "12 2021-09-12\n",
              "13 2021-09-13\n",
              "14 2021-09-14\n",
              "15 2021-09-15\n",
              "16 2021-09-16\n",
              "17 2021-09-17\n",
              "18 2021-09-18\n",
              "19 2021-09-19\n",
              "20 2021-09-20\n",
              "21 2021-09-21\n",
              "22 2021-09-22\n",
              "23 2021-09-23\n",
              "24 2021-09-24\n",
              "25 2021-09-25\n",
              "26 2021-09-26\n",
              "27 2021-09-27\n",
              "28 2021-09-28\n",
              "29 2021-09-29\n",
              "30 2021-09-30\n",
              "31 2021-10-01"
            ]
          },
          "metadata": {},
          "execution_count": 132
        }
      ]
    },
    {
      "cell_type": "code",
      "metadata": {
        "id": "NGVgTN91b_gm"
      },
      "source": [
        "last_date_pred1 = time_valid_pred1[\"Fecha\"].iloc[-1]\n",
        "\n",
        "#date_1 = datetime.datetime.strptime(start_date, \"%m/%d/%y\")   split_time - days\n",
        "#end_date = date_1 + datetime.timedelta(days=10)\n",
        "for i in range(days):\n",
        "  last_date_pred1 = last_date_pred1 + datetime.timedelta(days=1)\n",
        "  time_valid_pred1 = time_valid_pred1.append({'Fecha': last_date_pred1}, ignore_index=True)\n",
        "time_valid_pred1 = time_valid_pred1.to_numpy().reshape(-1)"
      ],
      "execution_count": null,
      "outputs": []
    },
    {
      "cell_type": "markdown",
      "metadata": {
        "id": "Hn3RI1RCVfrU"
      },
      "source": [
        "## Plot results LSTM"
      ]
    },
    {
      "cell_type": "code",
      "metadata": {
        "id": "A0oNdsVjwNaQ",
        "colab": {
          "base_uri": "https://localhost:8080/",
          "height": 388
        },
        "outputId": "e3caa175-081a-4c0a-8f6c-f0ae455785fa"
      },
      "source": [
        "plt.figure(figsize=(10, 6))\n",
        "\n",
        "plot_series(time_valid, scaler.inverse_transform(x_valid))\n",
        "plot_series(time_valid, scaler.inverse_transform(lstm_forecast.reshape(-1,1)))"
      ],
      "execution_count": null,
      "outputs": [
        {
          "output_type": "display_data",
          "data": {
            "image/png": "[encoded data removed]",
            "text/plain": [
              "<Figure size 720x432 with 1 Axes>"
            ]
          },
          "metadata": {
            "needs_background": "light"
          }
        }
      ]
    },
    {
      "cell_type": "code",
      "metadata": {
        "id": "iIwW7Hql1mka",
        "colab": {
          "base_uri": "https://localhost:8080/",
          "height": 388
        },
        "outputId": "332bc021-dc86-4e2f-aa99-ca65cf3c5109"
      },
      "source": [
        "plt.figure(figsize=(10, 6))\n",
        "\n",
        "#plot_series(time_valid, scaler.inverse_transform(x_valid))\n",
        "plot_series(time_valid2, scaler.inverse_transform(lstm_forecast1.reshape(-1,1)))"
      ],
      "execution_count": null,
      "outputs": [
        {
          "output_type": "display_data",
          "data": {
            "image/png": "[encoded data removed]",
            "text/plain": [
              "<Figure size 720x432 with 1 Axes>"
            ]
          },
          "metadata": {
            "needs_background": "light"
          }
        }
      ]
    },
    {
      "cell_type": "code",
      "metadata": {
        "colab": {
          "base_uri": "https://localhost:8080/",
          "height": 388
        },
        "id": "qniDh56t2v--",
        "outputId": "666a5688-7dbb-44c3-f3ee-feb7c103c1bc"
      },
      "source": [
        "plt.figure(figsize=(10, 6))\n",
        "#plot_series(time_valid, scaler.inverse_transform(x_valid))\n",
        "plot_series(time_valid_pred1, scaler.inverse_transform(lstm_forecastFuture1.reshape(-1,1)))"
      ],
      "execution_count": null,
      "outputs": [
        {
          "output_type": "display_data",
          "data": {
            "image/png": "[encoded data removed]",
            "text/plain": [
              "<Figure size 720x432 with 1 Axes>"
            ]
          },
          "metadata": {
            "needs_background": "light"
          }
        }
      ]
    }
  ]
}